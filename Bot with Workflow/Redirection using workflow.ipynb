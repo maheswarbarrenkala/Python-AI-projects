{
  "nbformat": 4,
  "nbformat_minor": 0,
  "metadata": {
    "colab": {
      "provenance": []
    },
    "kernelspec": {
      "name": "python3",
      "display_name": "Python 3"
    },
    "language_info": {
      "name": "python"
    }
  },
  "cells": [
    {
      "cell_type": "code",
      "execution_count": null,
      "metadata": {
        "id": "UDWMGuf3eq8A"
      },
      "outputs": [],
      "source": [
        "import os"
      ]
    },
    {
      "cell_type": "code",
      "source": [
        "os.environ[\"OPENAI_API_KEY\"] = ''"
      ],
      "metadata": {
        "id": "z5pE2N_peyw2"
      },
      "execution_count": null,
      "outputs": []
    },
    {
      "cell_type": "code",
      "source": [
        "api_key = os.getenv(\"OPENAI_API_KEY\")"
      ],
      "metadata": {
        "id": "OSWN6wrCe4-7"
      },
      "execution_count": null,
      "outputs": []
    },
    {
      "cell_type": "code",
      "source": [
        "!pip install langchain --upgrade"
      ],
      "metadata": {
        "colab": {
          "base_uri": "https://localhost:8080/"
        },
        "id": "wCcjO-Vwe8IL",
        "outputId": "e2ad2519-31a4-46ac-9557-106747dca5d4"
      },
      "execution_count": null,
      "outputs": [
        {
          "output_type": "stream",
          "name": "stdout",
          "text": [
            "Collecting langchain\n",
            "  Downloading langchain-0.3.3-py3-none-any.whl.metadata (7.1 kB)\n",
            "Requirement already satisfied: PyYAML>=5.3 in /usr/local/lib/python3.10/dist-packages (from langchain) (6.0.2)\n",
            "Requirement already satisfied: SQLAlchemy<3,>=1.4 in /usr/local/lib/python3.10/dist-packages (from langchain) (2.0.35)\n",
            "Requirement already satisfied: aiohttp<4.0.0,>=3.8.3 in /usr/local/lib/python3.10/dist-packages (from langchain) (3.10.9)\n",
            "Requirement already satisfied: async-timeout<5.0.0,>=4.0.0 in /usr/local/lib/python3.10/dist-packages (from langchain) (4.0.3)\n",
            "Collecting langchain-core<0.4.0,>=0.3.10 (from langchain)\n",
            "  Downloading langchain_core-0.3.10-py3-none-any.whl.metadata (6.3 kB)\n",
            "Collecting langchain-text-splitters<0.4.0,>=0.3.0 (from langchain)\n",
            "  Downloading langchain_text_splitters-0.3.0-py3-none-any.whl.metadata (2.3 kB)\n",
            "Collecting langsmith<0.2.0,>=0.1.17 (from langchain)\n",
            "  Downloading langsmith-0.1.134-py3-none-any.whl.metadata (13 kB)\n",
            "Requirement already satisfied: numpy<2,>=1 in /usr/local/lib/python3.10/dist-packages (from langchain) (1.26.4)\n",
            "Requirement already satisfied: pydantic<3.0.0,>=2.7.4 in /usr/local/lib/python3.10/dist-packages (from langchain) (2.9.2)\n",
            "Requirement already satisfied: requests<3,>=2 in /usr/local/lib/python3.10/dist-packages (from langchain) (2.32.3)\n",
            "Collecting tenacity!=8.4.0,<9.0.0,>=8.1.0 (from langchain)\n",
            "  Downloading tenacity-8.5.0-py3-none-any.whl.metadata (1.2 kB)\n",
            "Requirement already satisfied: aiohappyeyeballs>=2.3.0 in /usr/local/lib/python3.10/dist-packages (from aiohttp<4.0.0,>=3.8.3->langchain) (2.4.3)\n",
            "Requirement already satisfied: aiosignal>=1.1.2 in /usr/local/lib/python3.10/dist-packages (from aiohttp<4.0.0,>=3.8.3->langchain) (1.3.1)\n",
            "Requirement already satisfied: attrs>=17.3.0 in /usr/local/lib/python3.10/dist-packages (from aiohttp<4.0.0,>=3.8.3->langchain) (24.2.0)\n",
            "Requirement already satisfied: frozenlist>=1.1.1 in /usr/local/lib/python3.10/dist-packages (from aiohttp<4.0.0,>=3.8.3->langchain) (1.4.1)\n",
            "Requirement already satisfied: multidict<7.0,>=4.5 in /usr/local/lib/python3.10/dist-packages (from aiohttp<4.0.0,>=3.8.3->langchain) (6.1.0)\n",
            "Requirement already satisfied: yarl<2.0,>=1.12.0 in /usr/local/lib/python3.10/dist-packages (from aiohttp<4.0.0,>=3.8.3->langchain) (1.13.1)\n",
            "Collecting jsonpatch<2.0,>=1.33 (from langchain-core<0.4.0,>=0.3.10->langchain)\n",
            "  Downloading jsonpatch-1.33-py2.py3-none-any.whl.metadata (3.0 kB)\n",
            "Requirement already satisfied: packaging<25,>=23.2 in /usr/local/lib/python3.10/dist-packages (from langchain-core<0.4.0,>=0.3.10->langchain) (24.1)\n",
            "Requirement already satisfied: typing-extensions>=4.7 in /usr/local/lib/python3.10/dist-packages (from langchain-core<0.4.0,>=0.3.10->langchain) (4.12.2)\n",
            "Collecting httpx<1,>=0.23.0 (from langsmith<0.2.0,>=0.1.17->langchain)\n",
            "  Downloading httpx-0.27.2-py3-none-any.whl.metadata (7.1 kB)\n",
            "Collecting orjson<4.0.0,>=3.9.14 (from langsmith<0.2.0,>=0.1.17->langchain)\n",
            "  Downloading orjson-3.10.7-cp310-cp310-manylinux_2_17_x86_64.manylinux2014_x86_64.whl.metadata (50 kB)\n",
            "\u001b[2K     \u001b[90m━━━━━━━━━━━━━━━━━━━━━━━━━━━━━━━━━━━━━━━━\u001b[0m \u001b[32m50.4/50.4 kB\u001b[0m \u001b[31m3.8 MB/s\u001b[0m eta \u001b[36m0:00:00\u001b[0m\n",
            "\u001b[?25hCollecting requests-toolbelt<2.0.0,>=1.0.0 (from langsmith<0.2.0,>=0.1.17->langchain)\n",
            "  Downloading requests_toolbelt-1.0.0-py2.py3-none-any.whl.metadata (14 kB)\n",
            "Requirement already satisfied: annotated-types>=0.6.0 in /usr/local/lib/python3.10/dist-packages (from pydantic<3.0.0,>=2.7.4->langchain) (0.7.0)\n",
            "Requirement already satisfied: pydantic-core==2.23.4 in /usr/local/lib/python3.10/dist-packages (from pydantic<3.0.0,>=2.7.4->langchain) (2.23.4)\n",
            "Requirement already satisfied: charset-normalizer<4,>=2 in /usr/local/lib/python3.10/dist-packages (from requests<3,>=2->langchain) (3.3.2)\n",
            "Requirement already satisfied: idna<4,>=2.5 in /usr/local/lib/python3.10/dist-packages (from requests<3,>=2->langchain) (3.10)\n",
            "Requirement already satisfied: urllib3<3,>=1.21.1 in /usr/local/lib/python3.10/dist-packages (from requests<3,>=2->langchain) (2.2.3)\n",
            "Requirement already satisfied: certifi>=2017.4.17 in /usr/local/lib/python3.10/dist-packages (from requests<3,>=2->langchain) (2024.8.30)\n",
            "Requirement already satisfied: greenlet!=0.4.17 in /usr/local/lib/python3.10/dist-packages (from SQLAlchemy<3,>=1.4->langchain) (3.1.1)\n",
            "Requirement already satisfied: anyio in /usr/local/lib/python3.10/dist-packages (from httpx<1,>=0.23.0->langsmith<0.2.0,>=0.1.17->langchain) (3.7.1)\n",
            "Collecting httpcore==1.* (from httpx<1,>=0.23.0->langsmith<0.2.0,>=0.1.17->langchain)\n",
            "  Downloading httpcore-1.0.6-py3-none-any.whl.metadata (21 kB)\n",
            "Requirement already satisfied: sniffio in /usr/local/lib/python3.10/dist-packages (from httpx<1,>=0.23.0->langsmith<0.2.0,>=0.1.17->langchain) (1.3.1)\n",
            "Collecting h11<0.15,>=0.13 (from httpcore==1.*->httpx<1,>=0.23.0->langsmith<0.2.0,>=0.1.17->langchain)\n",
            "  Downloading h11-0.14.0-py3-none-any.whl.metadata (8.2 kB)\n",
            "Collecting jsonpointer>=1.9 (from jsonpatch<2.0,>=1.33->langchain-core<0.4.0,>=0.3.10->langchain)\n",
            "  Downloading jsonpointer-3.0.0-py2.py3-none-any.whl.metadata (2.3 kB)\n",
            "Requirement already satisfied: exceptiongroup in /usr/local/lib/python3.10/dist-packages (from anyio->httpx<1,>=0.23.0->langsmith<0.2.0,>=0.1.17->langchain) (1.2.2)\n",
            "Downloading langchain-0.3.3-py3-none-any.whl (1.0 MB)\n",
            "\u001b[2K   \u001b[90m━━━━━━━━━━━━━━━━━━━━━━━━━━━━━━━━━━━━━━━━\u001b[0m \u001b[32m1.0/1.0 MB\u001b[0m \u001b[31m37.5 MB/s\u001b[0m eta \u001b[36m0:00:00\u001b[0m\n",
            "\u001b[?25hDownloading langchain_core-0.3.10-py3-none-any.whl (404 kB)\n",
            "\u001b[2K   \u001b[90m━━━━━━━━━━━━━━━━━━━━━━━━━━━━━━━━━━━━━━━━\u001b[0m \u001b[32m404.4/404.4 kB\u001b[0m \u001b[31m25.3 MB/s\u001b[0m eta \u001b[36m0:00:00\u001b[0m\n",
            "\u001b[?25hDownloading langchain_text_splitters-0.3.0-py3-none-any.whl (25 kB)\n",
            "Downloading langsmith-0.1.134-py3-none-any.whl (295 kB)\n",
            "\u001b[2K   \u001b[90m━━━━━━━━━━━━━━━━━━━━━━━━━━━━━━━━━━━━━━━━\u001b[0m \u001b[32m295.8/295.8 kB\u001b[0m \u001b[31m22.7 MB/s\u001b[0m eta \u001b[36m0:00:00\u001b[0m\n",
            "\u001b[?25hDownloading tenacity-8.5.0-py3-none-any.whl (28 kB)\n",
            "Downloading httpx-0.27.2-py3-none-any.whl (76 kB)\n",
            "\u001b[2K   \u001b[90m━━━━━━━━━━━━━━━━━━━━━━━━━━━━━━━━━━━━━━━━\u001b[0m \u001b[32m76.4/76.4 kB\u001b[0m \u001b[31m6.7 MB/s\u001b[0m eta \u001b[36m0:00:00\u001b[0m\n",
            "\u001b[?25hDownloading httpcore-1.0.6-py3-none-any.whl (78 kB)\n",
            "\u001b[2K   \u001b[90m━━━━━━━━━━━━━━━━━━━━━━━━━━━━━━━━━━━━━━━━\u001b[0m \u001b[32m78.0/78.0 kB\u001b[0m \u001b[31m7.6 MB/s\u001b[0m eta \u001b[36m0:00:00\u001b[0m\n",
            "\u001b[?25hDownloading jsonpatch-1.33-py2.py3-none-any.whl (12 kB)\n",
            "Downloading orjson-3.10.7-cp310-cp310-manylinux_2_17_x86_64.manylinux2014_x86_64.whl (141 kB)\n",
            "\u001b[2K   \u001b[90m━━━━━━━━━━━━━━━━━━━━━━━━━━━━━━━━━━━━━━━━\u001b[0m \u001b[32m141.9/141.9 kB\u001b[0m \u001b[31m10.2 MB/s\u001b[0m eta \u001b[36m0:00:00\u001b[0m\n",
            "\u001b[?25hDownloading requests_toolbelt-1.0.0-py2.py3-none-any.whl (54 kB)\n",
            "\u001b[2K   \u001b[90m━━━━━━━━━━━━━━━━━━━━━━━━━━━━━━━━━━━━━━━━\u001b[0m \u001b[32m54.5/54.5 kB\u001b[0m \u001b[31m4.3 MB/s\u001b[0m eta \u001b[36m0:00:00\u001b[0m\n",
            "\u001b[?25hDownloading jsonpointer-3.0.0-py2.py3-none-any.whl (7.6 kB)\n",
            "Downloading h11-0.14.0-py3-none-any.whl (58 kB)\n",
            "\u001b[2K   \u001b[90m━━━━━━━━━━━━━━━━━━━━━━━━━━━━━━━━━━━━━━━━\u001b[0m \u001b[32m58.3/58.3 kB\u001b[0m \u001b[31m5.2 MB/s\u001b[0m eta \u001b[36m0:00:00\u001b[0m\n",
            "\u001b[?25hInstalling collected packages: tenacity, orjson, jsonpointer, h11, requests-toolbelt, jsonpatch, httpcore, httpx, langsmith, langchain-core, langchain-text-splitters, langchain\n",
            "  Attempting uninstall: tenacity\n",
            "    Found existing installation: tenacity 9.0.0\n",
            "    Uninstalling tenacity-9.0.0:\n",
            "      Successfully uninstalled tenacity-9.0.0\n",
            "Successfully installed h11-0.14.0 httpcore-1.0.6 httpx-0.27.2 jsonpatch-1.33 jsonpointer-3.0.0 langchain-0.3.3 langchain-core-0.3.10 langchain-text-splitters-0.3.0 langsmith-0.1.134 orjson-3.10.7 requests-toolbelt-1.0.0 tenacity-8.5.0\n"
          ]
        }
      ]
    },
    {
      "cell_type": "code",
      "source": [
        "!pip install -U langchain-openai"
      ],
      "metadata": {
        "colab": {
          "base_uri": "https://localhost:8080/"
        },
        "id": "_mgQrolufBvS",
        "outputId": "780e32bd-6af8-4048-de46-852d72e4d16b"
      },
      "execution_count": null,
      "outputs": [
        {
          "output_type": "stream",
          "name": "stdout",
          "text": [
            "Collecting langchain-openai\n",
            "  Downloading langchain_openai-0.2.2-py3-none-any.whl.metadata (2.6 kB)\n",
            "Requirement already satisfied: langchain-core<0.4.0,>=0.3.9 in /usr/local/lib/python3.10/dist-packages (from langchain-openai) (0.3.10)\n",
            "Collecting openai<2.0.0,>=1.40.0 (from langchain-openai)\n",
            "  Downloading openai-1.51.2-py3-none-any.whl.metadata (24 kB)\n",
            "Collecting tiktoken<1,>=0.7 (from langchain-openai)\n",
            "  Downloading tiktoken-0.8.0-cp310-cp310-manylinux_2_17_x86_64.manylinux2014_x86_64.whl.metadata (6.6 kB)\n",
            "Requirement already satisfied: PyYAML>=5.3 in /usr/local/lib/python3.10/dist-packages (from langchain-core<0.4.0,>=0.3.9->langchain-openai) (6.0.2)\n",
            "Requirement already satisfied: jsonpatch<2.0,>=1.33 in /usr/local/lib/python3.10/dist-packages (from langchain-core<0.4.0,>=0.3.9->langchain-openai) (1.33)\n",
            "Requirement already satisfied: langsmith<0.2.0,>=0.1.125 in /usr/local/lib/python3.10/dist-packages (from langchain-core<0.4.0,>=0.3.9->langchain-openai) (0.1.134)\n",
            "Requirement already satisfied: packaging<25,>=23.2 in /usr/local/lib/python3.10/dist-packages (from langchain-core<0.4.0,>=0.3.9->langchain-openai) (24.1)\n",
            "Requirement already satisfied: pydantic<3.0.0,>=2.5.2 in /usr/local/lib/python3.10/dist-packages (from langchain-core<0.4.0,>=0.3.9->langchain-openai) (2.9.2)\n",
            "Requirement already satisfied: tenacity!=8.4.0,<9.0.0,>=8.1.0 in /usr/local/lib/python3.10/dist-packages (from langchain-core<0.4.0,>=0.3.9->langchain-openai) (8.5.0)\n",
            "Requirement already satisfied: typing-extensions>=4.7 in /usr/local/lib/python3.10/dist-packages (from langchain-core<0.4.0,>=0.3.9->langchain-openai) (4.12.2)\n",
            "Requirement already satisfied: anyio<5,>=3.5.0 in /usr/local/lib/python3.10/dist-packages (from openai<2.0.0,>=1.40.0->langchain-openai) (3.7.1)\n",
            "Requirement already satisfied: distro<2,>=1.7.0 in /usr/lib/python3/dist-packages (from openai<2.0.0,>=1.40.0->langchain-openai) (1.7.0)\n",
            "Requirement already satisfied: httpx<1,>=0.23.0 in /usr/local/lib/python3.10/dist-packages (from openai<2.0.0,>=1.40.0->langchain-openai) (0.27.2)\n",
            "Collecting jiter<1,>=0.4.0 (from openai<2.0.0,>=1.40.0->langchain-openai)\n",
            "  Downloading jiter-0.6.1-cp310-cp310-manylinux_2_17_x86_64.manylinux2014_x86_64.whl.metadata (5.2 kB)\n",
            "Requirement already satisfied: sniffio in /usr/local/lib/python3.10/dist-packages (from openai<2.0.0,>=1.40.0->langchain-openai) (1.3.1)\n",
            "Requirement already satisfied: tqdm>4 in /usr/local/lib/python3.10/dist-packages (from openai<2.0.0,>=1.40.0->langchain-openai) (4.66.5)\n",
            "Requirement already satisfied: regex>=2022.1.18 in /usr/local/lib/python3.10/dist-packages (from tiktoken<1,>=0.7->langchain-openai) (2024.9.11)\n",
            "Requirement already satisfied: requests>=2.26.0 in /usr/local/lib/python3.10/dist-packages (from tiktoken<1,>=0.7->langchain-openai) (2.32.3)\n",
            "Requirement already satisfied: idna>=2.8 in /usr/local/lib/python3.10/dist-packages (from anyio<5,>=3.5.0->openai<2.0.0,>=1.40.0->langchain-openai) (3.10)\n",
            "Requirement already satisfied: exceptiongroup in /usr/local/lib/python3.10/dist-packages (from anyio<5,>=3.5.0->openai<2.0.0,>=1.40.0->langchain-openai) (1.2.2)\n",
            "Requirement already satisfied: certifi in /usr/local/lib/python3.10/dist-packages (from httpx<1,>=0.23.0->openai<2.0.0,>=1.40.0->langchain-openai) (2024.8.30)\n",
            "Requirement already satisfied: httpcore==1.* in /usr/local/lib/python3.10/dist-packages (from httpx<1,>=0.23.0->openai<2.0.0,>=1.40.0->langchain-openai) (1.0.6)\n",
            "Requirement already satisfied: h11<0.15,>=0.13 in /usr/local/lib/python3.10/dist-packages (from httpcore==1.*->httpx<1,>=0.23.0->openai<2.0.0,>=1.40.0->langchain-openai) (0.14.0)\n",
            "Requirement already satisfied: jsonpointer>=1.9 in /usr/local/lib/python3.10/dist-packages (from jsonpatch<2.0,>=1.33->langchain-core<0.4.0,>=0.3.9->langchain-openai) (3.0.0)\n",
            "Requirement already satisfied: orjson<4.0.0,>=3.9.14 in /usr/local/lib/python3.10/dist-packages (from langsmith<0.2.0,>=0.1.125->langchain-core<0.4.0,>=0.3.9->langchain-openai) (3.10.7)\n",
            "Requirement already satisfied: requests-toolbelt<2.0.0,>=1.0.0 in /usr/local/lib/python3.10/dist-packages (from langsmith<0.2.0,>=0.1.125->langchain-core<0.4.0,>=0.3.9->langchain-openai) (1.0.0)\n",
            "Requirement already satisfied: annotated-types>=0.6.0 in /usr/local/lib/python3.10/dist-packages (from pydantic<3.0.0,>=2.5.2->langchain-core<0.4.0,>=0.3.9->langchain-openai) (0.7.0)\n",
            "Requirement already satisfied: pydantic-core==2.23.4 in /usr/local/lib/python3.10/dist-packages (from pydantic<3.0.0,>=2.5.2->langchain-core<0.4.0,>=0.3.9->langchain-openai) (2.23.4)\n",
            "Requirement already satisfied: charset-normalizer<4,>=2 in /usr/local/lib/python3.10/dist-packages (from requests>=2.26.0->tiktoken<1,>=0.7->langchain-openai) (3.3.2)\n",
            "Requirement already satisfied: urllib3<3,>=1.21.1 in /usr/local/lib/python3.10/dist-packages (from requests>=2.26.0->tiktoken<1,>=0.7->langchain-openai) (2.2.3)\n",
            "Downloading langchain_openai-0.2.2-py3-none-any.whl (49 kB)\n",
            "\u001b[2K   \u001b[90m━━━━━━━━━━━━━━━━━━━━━━━━━━━━━━━━━━━━━━━━\u001b[0m \u001b[32m49.7/49.7 kB\u001b[0m \u001b[31m3.6 MB/s\u001b[0m eta \u001b[36m0:00:00\u001b[0m\n",
            "\u001b[?25hDownloading openai-1.51.2-py3-none-any.whl (383 kB)\n",
            "\u001b[2K   \u001b[90m━━━━━━━━━━━━━━━━━━━━━━━━━━━━━━━━━━━━━━━━\u001b[0m \u001b[32m383.7/383.7 kB\u001b[0m \u001b[31m18.6 MB/s\u001b[0m eta \u001b[36m0:00:00\u001b[0m\n",
            "\u001b[?25hDownloading tiktoken-0.8.0-cp310-cp310-manylinux_2_17_x86_64.manylinux2014_x86_64.whl (1.2 MB)\n",
            "\u001b[2K   \u001b[90m━━━━━━━━━━━━━━━━━━━━━━━━━━━━━━━━━━━━━━━━\u001b[0m \u001b[32m1.2/1.2 MB\u001b[0m \u001b[31m42.4 MB/s\u001b[0m eta \u001b[36m0:00:00\u001b[0m\n",
            "\u001b[?25hDownloading jiter-0.6.1-cp310-cp310-manylinux_2_17_x86_64.manylinux2014_x86_64.whl (325 kB)\n",
            "\u001b[2K   \u001b[90m━━━━━━━━━━━━━━━━━━━━━━━━━━━━━━━━━━━━━━━━\u001b[0m \u001b[32m325.2/325.2 kB\u001b[0m \u001b[31m21.0 MB/s\u001b[0m eta \u001b[36m0:00:00\u001b[0m\n",
            "\u001b[?25hInstalling collected packages: jiter, tiktoken, openai, langchain-openai\n",
            "Successfully installed jiter-0.6.1 langchain-openai-0.2.2 openai-1.51.2 tiktoken-0.8.0\n"
          ]
        }
      ]
    },
    {
      "cell_type": "code",
      "source": [
        "!pip install langchain-community"
      ],
      "metadata": {
        "colab": {
          "base_uri": "https://localhost:8080/"
        },
        "id": "vgG9RmU7fK1Q",
        "outputId": "83b9efe1-c89d-4ffd-8e3f-17065de8aac5"
      },
      "execution_count": null,
      "outputs": [
        {
          "output_type": "stream",
          "name": "stdout",
          "text": [
            "Collecting langchain-community\n",
            "  Downloading langchain_community-0.3.2-py3-none-any.whl.metadata (2.8 kB)\n",
            "Requirement already satisfied: PyYAML>=5.3 in /usr/local/lib/python3.10/dist-packages (from langchain-community) (6.0.2)\n",
            "Requirement already satisfied: SQLAlchemy<3,>=1.4 in /usr/local/lib/python3.10/dist-packages (from langchain-community) (2.0.35)\n",
            "Requirement already satisfied: aiohttp<4.0.0,>=3.8.3 in /usr/local/lib/python3.10/dist-packages (from langchain-community) (3.10.9)\n",
            "Collecting dataclasses-json<0.7,>=0.5.7 (from langchain-community)\n",
            "  Downloading dataclasses_json-0.6.7-py3-none-any.whl.metadata (25 kB)\n",
            "Requirement already satisfied: langchain<0.4.0,>=0.3.3 in /usr/local/lib/python3.10/dist-packages (from langchain-community) (0.3.3)\n",
            "Requirement already satisfied: langchain-core<0.4.0,>=0.3.10 in /usr/local/lib/python3.10/dist-packages (from langchain-community) (0.3.10)\n",
            "Requirement already satisfied: langsmith<0.2.0,>=0.1.125 in /usr/local/lib/python3.10/dist-packages (from langchain-community) (0.1.134)\n",
            "Requirement already satisfied: numpy<2,>=1 in /usr/local/lib/python3.10/dist-packages (from langchain-community) (1.26.4)\n",
            "Collecting pydantic-settings<3.0.0,>=2.4.0 (from langchain-community)\n",
            "  Downloading pydantic_settings-2.5.2-py3-none-any.whl.metadata (3.5 kB)\n",
            "Requirement already satisfied: requests<3,>=2 in /usr/local/lib/python3.10/dist-packages (from langchain-community) (2.32.3)\n",
            "Requirement already satisfied: tenacity!=8.4.0,<9.0.0,>=8.1.0 in /usr/local/lib/python3.10/dist-packages (from langchain-community) (8.5.0)\n",
            "Requirement already satisfied: aiohappyeyeballs>=2.3.0 in /usr/local/lib/python3.10/dist-packages (from aiohttp<4.0.0,>=3.8.3->langchain-community) (2.4.3)\n",
            "Requirement already satisfied: aiosignal>=1.1.2 in /usr/local/lib/python3.10/dist-packages (from aiohttp<4.0.0,>=3.8.3->langchain-community) (1.3.1)\n",
            "Requirement already satisfied: attrs>=17.3.0 in /usr/local/lib/python3.10/dist-packages (from aiohttp<4.0.0,>=3.8.3->langchain-community) (24.2.0)\n",
            "Requirement already satisfied: frozenlist>=1.1.1 in /usr/local/lib/python3.10/dist-packages (from aiohttp<4.0.0,>=3.8.3->langchain-community) (1.4.1)\n",
            "Requirement already satisfied: multidict<7.0,>=4.5 in /usr/local/lib/python3.10/dist-packages (from aiohttp<4.0.0,>=3.8.3->langchain-community) (6.1.0)\n",
            "Requirement already satisfied: yarl<2.0,>=1.12.0 in /usr/local/lib/python3.10/dist-packages (from aiohttp<4.0.0,>=3.8.3->langchain-community) (1.13.1)\n",
            "Requirement already satisfied: async-timeout<5.0,>=4.0 in /usr/local/lib/python3.10/dist-packages (from aiohttp<4.0.0,>=3.8.3->langchain-community) (4.0.3)\n",
            "Collecting marshmallow<4.0.0,>=3.18.0 (from dataclasses-json<0.7,>=0.5.7->langchain-community)\n",
            "  Downloading marshmallow-3.22.0-py3-none-any.whl.metadata (7.2 kB)\n",
            "Collecting typing-inspect<1,>=0.4.0 (from dataclasses-json<0.7,>=0.5.7->langchain-community)\n",
            "  Downloading typing_inspect-0.9.0-py3-none-any.whl.metadata (1.5 kB)\n",
            "Requirement already satisfied: langchain-text-splitters<0.4.0,>=0.3.0 in /usr/local/lib/python3.10/dist-packages (from langchain<0.4.0,>=0.3.3->langchain-community) (0.3.0)\n",
            "Requirement already satisfied: pydantic<3.0.0,>=2.7.4 in /usr/local/lib/python3.10/dist-packages (from langchain<0.4.0,>=0.3.3->langchain-community) (2.9.2)\n",
            "Requirement already satisfied: jsonpatch<2.0,>=1.33 in /usr/local/lib/python3.10/dist-packages (from langchain-core<0.4.0,>=0.3.10->langchain-community) (1.33)\n",
            "Requirement already satisfied: packaging<25,>=23.2 in /usr/local/lib/python3.10/dist-packages (from langchain-core<0.4.0,>=0.3.10->langchain-community) (24.1)\n",
            "Requirement already satisfied: typing-extensions>=4.7 in /usr/local/lib/python3.10/dist-packages (from langchain-core<0.4.0,>=0.3.10->langchain-community) (4.12.2)\n",
            "Requirement already satisfied: httpx<1,>=0.23.0 in /usr/local/lib/python3.10/dist-packages (from langsmith<0.2.0,>=0.1.125->langchain-community) (0.27.2)\n",
            "Requirement already satisfied: orjson<4.0.0,>=3.9.14 in /usr/local/lib/python3.10/dist-packages (from langsmith<0.2.0,>=0.1.125->langchain-community) (3.10.7)\n",
            "Requirement already satisfied: requests-toolbelt<2.0.0,>=1.0.0 in /usr/local/lib/python3.10/dist-packages (from langsmith<0.2.0,>=0.1.125->langchain-community) (1.0.0)\n",
            "Collecting python-dotenv>=0.21.0 (from pydantic-settings<3.0.0,>=2.4.0->langchain-community)\n",
            "  Downloading python_dotenv-1.0.1-py3-none-any.whl.metadata (23 kB)\n",
            "Requirement already satisfied: charset-normalizer<4,>=2 in /usr/local/lib/python3.10/dist-packages (from requests<3,>=2->langchain-community) (3.3.2)\n",
            "Requirement already satisfied: idna<4,>=2.5 in /usr/local/lib/python3.10/dist-packages (from requests<3,>=2->langchain-community) (3.10)\n",
            "Requirement already satisfied: urllib3<3,>=1.21.1 in /usr/local/lib/python3.10/dist-packages (from requests<3,>=2->langchain-community) (2.2.3)\n",
            "Requirement already satisfied: certifi>=2017.4.17 in /usr/local/lib/python3.10/dist-packages (from requests<3,>=2->langchain-community) (2024.8.30)\n",
            "Requirement already satisfied: greenlet!=0.4.17 in /usr/local/lib/python3.10/dist-packages (from SQLAlchemy<3,>=1.4->langchain-community) (3.1.1)\n",
            "Requirement already satisfied: anyio in /usr/local/lib/python3.10/dist-packages (from httpx<1,>=0.23.0->langsmith<0.2.0,>=0.1.125->langchain-community) (3.7.1)\n",
            "Requirement already satisfied: httpcore==1.* in /usr/local/lib/python3.10/dist-packages (from httpx<1,>=0.23.0->langsmith<0.2.0,>=0.1.125->langchain-community) (1.0.6)\n",
            "Requirement already satisfied: sniffio in /usr/local/lib/python3.10/dist-packages (from httpx<1,>=0.23.0->langsmith<0.2.0,>=0.1.125->langchain-community) (1.3.1)\n",
            "Requirement already satisfied: h11<0.15,>=0.13 in /usr/local/lib/python3.10/dist-packages (from httpcore==1.*->httpx<1,>=0.23.0->langsmith<0.2.0,>=0.1.125->langchain-community) (0.14.0)\n",
            "Requirement already satisfied: jsonpointer>=1.9 in /usr/local/lib/python3.10/dist-packages (from jsonpatch<2.0,>=1.33->langchain-core<0.4.0,>=0.3.10->langchain-community) (3.0.0)\n",
            "Requirement already satisfied: annotated-types>=0.6.0 in /usr/local/lib/python3.10/dist-packages (from pydantic<3.0.0,>=2.7.4->langchain<0.4.0,>=0.3.3->langchain-community) (0.7.0)\n",
            "Requirement already satisfied: pydantic-core==2.23.4 in /usr/local/lib/python3.10/dist-packages (from pydantic<3.0.0,>=2.7.4->langchain<0.4.0,>=0.3.3->langchain-community) (2.23.4)\n",
            "Collecting mypy-extensions>=0.3.0 (from typing-inspect<1,>=0.4.0->dataclasses-json<0.7,>=0.5.7->langchain-community)\n",
            "  Downloading mypy_extensions-1.0.0-py3-none-any.whl.metadata (1.1 kB)\n",
            "Requirement already satisfied: exceptiongroup in /usr/local/lib/python3.10/dist-packages (from anyio->httpx<1,>=0.23.0->langsmith<0.2.0,>=0.1.125->langchain-community) (1.2.2)\n",
            "Downloading langchain_community-0.3.2-py3-none-any.whl (2.4 MB)\n",
            "\u001b[2K   \u001b[90m━━━━━━━━━━━━━━━━━━━━━━━━━━━━━━━━━━━━━━━━\u001b[0m \u001b[32m2.4/2.4 MB\u001b[0m \u001b[31m45.7 MB/s\u001b[0m eta \u001b[36m0:00:00\u001b[0m\n",
            "\u001b[?25hDownloading dataclasses_json-0.6.7-py3-none-any.whl (28 kB)\n",
            "Downloading pydantic_settings-2.5.2-py3-none-any.whl (26 kB)\n",
            "Downloading marshmallow-3.22.0-py3-none-any.whl (49 kB)\n",
            "\u001b[2K   \u001b[90m━━━━━━━━━━━━━━━━━━━━━━━━━━━━━━━━━━━━━━━━\u001b[0m \u001b[32m49.3/49.3 kB\u001b[0m \u001b[31m4.1 MB/s\u001b[0m eta \u001b[36m0:00:00\u001b[0m\n",
            "\u001b[?25hDownloading python_dotenv-1.0.1-py3-none-any.whl (19 kB)\n",
            "Downloading typing_inspect-0.9.0-py3-none-any.whl (8.8 kB)\n",
            "Downloading mypy_extensions-1.0.0-py3-none-any.whl (4.7 kB)\n",
            "Installing collected packages: python-dotenv, mypy-extensions, marshmallow, typing-inspect, pydantic-settings, dataclasses-json, langchain-community\n",
            "Successfully installed dataclasses-json-0.6.7 langchain-community-0.3.2 marshmallow-3.22.0 mypy-extensions-1.0.0 pydantic-settings-2.5.2 python-dotenv-1.0.1 typing-inspect-0.9.0\n"
          ]
        }
      ]
    },
    {
      "cell_type": "code",
      "source": [
        "!pip install -U langgraph"
      ],
      "metadata": {
        "colab": {
          "base_uri": "https://localhost:8080/"
        },
        "id": "uLyPrDrhfPhy",
        "outputId": "678e24ca-d295-4221-89c5-e19e987f70e0"
      },
      "execution_count": null,
      "outputs": [
        {
          "output_type": "stream",
          "name": "stdout",
          "text": [
            "Collecting langgraph\n",
            "  Downloading langgraph-0.2.35-py3-none-any.whl.metadata (13 kB)\n",
            "Requirement already satisfied: langchain-core<0.4,>=0.2.39 in /usr/local/lib/python3.10/dist-packages (from langgraph) (0.3.10)\n",
            "Collecting langgraph-checkpoint<3.0.0,>=2.0.0 (from langgraph)\n",
            "  Downloading langgraph_checkpoint-2.0.1-py3-none-any.whl.metadata (4.6 kB)\n",
            "Requirement already satisfied: PyYAML>=5.3 in /usr/local/lib/python3.10/dist-packages (from langchain-core<0.4,>=0.2.39->langgraph) (6.0.2)\n",
            "Requirement already satisfied: jsonpatch<2.0,>=1.33 in /usr/local/lib/python3.10/dist-packages (from langchain-core<0.4,>=0.2.39->langgraph) (1.33)\n",
            "Requirement already satisfied: langsmith<0.2.0,>=0.1.125 in /usr/local/lib/python3.10/dist-packages (from langchain-core<0.4,>=0.2.39->langgraph) (0.1.134)\n",
            "Requirement already satisfied: packaging<25,>=23.2 in /usr/local/lib/python3.10/dist-packages (from langchain-core<0.4,>=0.2.39->langgraph) (24.1)\n",
            "Requirement already satisfied: pydantic<3.0.0,>=2.5.2 in /usr/local/lib/python3.10/dist-packages (from langchain-core<0.4,>=0.2.39->langgraph) (2.9.2)\n",
            "Requirement already satisfied: tenacity!=8.4.0,<9.0.0,>=8.1.0 in /usr/local/lib/python3.10/dist-packages (from langchain-core<0.4,>=0.2.39->langgraph) (8.5.0)\n",
            "Requirement already satisfied: typing-extensions>=4.7 in /usr/local/lib/python3.10/dist-packages (from langchain-core<0.4,>=0.2.39->langgraph) (4.12.2)\n",
            "Collecting msgpack<2.0.0,>=1.1.0 (from langgraph-checkpoint<3.0.0,>=2.0.0->langgraph)\n",
            "  Downloading msgpack-1.1.0-cp310-cp310-manylinux_2_17_x86_64.manylinux2014_x86_64.whl.metadata (8.4 kB)\n",
            "Requirement already satisfied: jsonpointer>=1.9 in /usr/local/lib/python3.10/dist-packages (from jsonpatch<2.0,>=1.33->langchain-core<0.4,>=0.2.39->langgraph) (3.0.0)\n",
            "Requirement already satisfied: httpx<1,>=0.23.0 in /usr/local/lib/python3.10/dist-packages (from langsmith<0.2.0,>=0.1.125->langchain-core<0.4,>=0.2.39->langgraph) (0.27.2)\n",
            "Requirement already satisfied: orjson<4.0.0,>=3.9.14 in /usr/local/lib/python3.10/dist-packages (from langsmith<0.2.0,>=0.1.125->langchain-core<0.4,>=0.2.39->langgraph) (3.10.7)\n",
            "Requirement already satisfied: requests<3,>=2 in /usr/local/lib/python3.10/dist-packages (from langsmith<0.2.0,>=0.1.125->langchain-core<0.4,>=0.2.39->langgraph) (2.32.3)\n",
            "Requirement already satisfied: requests-toolbelt<2.0.0,>=1.0.0 in /usr/local/lib/python3.10/dist-packages (from langsmith<0.2.0,>=0.1.125->langchain-core<0.4,>=0.2.39->langgraph) (1.0.0)\n",
            "Requirement already satisfied: annotated-types>=0.6.0 in /usr/local/lib/python3.10/dist-packages (from pydantic<3.0.0,>=2.5.2->langchain-core<0.4,>=0.2.39->langgraph) (0.7.0)\n",
            "Requirement already satisfied: pydantic-core==2.23.4 in /usr/local/lib/python3.10/dist-packages (from pydantic<3.0.0,>=2.5.2->langchain-core<0.4,>=0.2.39->langgraph) (2.23.4)\n",
            "Requirement already satisfied: anyio in /usr/local/lib/python3.10/dist-packages (from httpx<1,>=0.23.0->langsmith<0.2.0,>=0.1.125->langchain-core<0.4,>=0.2.39->langgraph) (3.7.1)\n",
            "Requirement already satisfied: certifi in /usr/local/lib/python3.10/dist-packages (from httpx<1,>=0.23.0->langsmith<0.2.0,>=0.1.125->langchain-core<0.4,>=0.2.39->langgraph) (2024.8.30)\n",
            "Requirement already satisfied: httpcore==1.* in /usr/local/lib/python3.10/dist-packages (from httpx<1,>=0.23.0->langsmith<0.2.0,>=0.1.125->langchain-core<0.4,>=0.2.39->langgraph) (1.0.6)\n",
            "Requirement already satisfied: idna in /usr/local/lib/python3.10/dist-packages (from httpx<1,>=0.23.0->langsmith<0.2.0,>=0.1.125->langchain-core<0.4,>=0.2.39->langgraph) (3.10)\n",
            "Requirement already satisfied: sniffio in /usr/local/lib/python3.10/dist-packages (from httpx<1,>=0.23.0->langsmith<0.2.0,>=0.1.125->langchain-core<0.4,>=0.2.39->langgraph) (1.3.1)\n",
            "Requirement already satisfied: h11<0.15,>=0.13 in /usr/local/lib/python3.10/dist-packages (from httpcore==1.*->httpx<1,>=0.23.0->langsmith<0.2.0,>=0.1.125->langchain-core<0.4,>=0.2.39->langgraph) (0.14.0)\n",
            "Requirement already satisfied: charset-normalizer<4,>=2 in /usr/local/lib/python3.10/dist-packages (from requests<3,>=2->langsmith<0.2.0,>=0.1.125->langchain-core<0.4,>=0.2.39->langgraph) (3.3.2)\n",
            "Requirement already satisfied: urllib3<3,>=1.21.1 in /usr/local/lib/python3.10/dist-packages (from requests<3,>=2->langsmith<0.2.0,>=0.1.125->langchain-core<0.4,>=0.2.39->langgraph) (2.2.3)\n",
            "Requirement already satisfied: exceptiongroup in /usr/local/lib/python3.10/dist-packages (from anyio->httpx<1,>=0.23.0->langsmith<0.2.0,>=0.1.125->langchain-core<0.4,>=0.2.39->langgraph) (1.2.2)\n",
            "Downloading langgraph-0.2.35-py3-none-any.whl (108 kB)\n",
            "\u001b[2K   \u001b[90m━━━━━━━━━━━━━━━━━━━━━━━━━━━━━━━━━━━━━━━━\u001b[0m \u001b[32m108.7/108.7 kB\u001b[0m \u001b[31m7.3 MB/s\u001b[0m eta \u001b[36m0:00:00\u001b[0m\n",
            "\u001b[?25hDownloading langgraph_checkpoint-2.0.1-py3-none-any.whl (22 kB)\n",
            "Downloading msgpack-1.1.0-cp310-cp310-manylinux_2_17_x86_64.manylinux2014_x86_64.whl (378 kB)\n",
            "\u001b[2K   \u001b[90m━━━━━━━━━━━━━━━━━━━━━━━━━━━━━━━━━━━━━━━━\u001b[0m \u001b[32m378.0/378.0 kB\u001b[0m \u001b[31m24.9 MB/s\u001b[0m eta \u001b[36m0:00:00\u001b[0m\n",
            "\u001b[?25hInstalling collected packages: msgpack, langgraph-checkpoint, langgraph\n",
            "  Attempting uninstall: msgpack\n",
            "    Found existing installation: msgpack 1.0.8\n",
            "    Uninstalling msgpack-1.0.8:\n",
            "      Successfully uninstalled msgpack-1.0.8\n",
            "Successfully installed langgraph-0.2.35 langgraph-checkpoint-2.0.1 msgpack-1.1.0\n"
          ]
        }
      ]
    },
    {
      "cell_type": "code",
      "source": [
        "!pip install -U langchain-chroma"
      ],
      "metadata": {
        "colab": {
          "base_uri": "https://localhost:8080/"
        },
        "id": "LycvT7quff8E",
        "outputId": "1a564484-7e42-4dcd-d076-8f7fa54ef58c"
      },
      "execution_count": null,
      "outputs": [
        {
          "output_type": "stream",
          "name": "stdout",
          "text": [
            "Collecting langchain-chroma\n",
            "  Downloading langchain_chroma-0.1.4-py3-none-any.whl.metadata (1.6 kB)\n",
            "Collecting chromadb!=0.5.4,!=0.5.5,<0.6.0,>=0.4.0 (from langchain-chroma)\n",
            "  Downloading chromadb-0.5.13-py3-none-any.whl.metadata (6.8 kB)\n",
            "Collecting fastapi<1,>=0.95.2 (from langchain-chroma)\n",
            "  Downloading fastapi-0.115.2-py3-none-any.whl.metadata (27 kB)\n",
            "Requirement already satisfied: langchain-core<0.4,>=0.1.40 in /usr/local/lib/python3.10/dist-packages (from langchain-chroma) (0.3.10)\n",
            "Requirement already satisfied: numpy<2,>=1 in /usr/local/lib/python3.10/dist-packages (from langchain-chroma) (1.26.4)\n",
            "Requirement already satisfied: build>=1.0.3 in /usr/local/lib/python3.10/dist-packages (from chromadb!=0.5.4,!=0.5.5,<0.6.0,>=0.4.0->langchain-chroma) (1.2.2.post1)\n",
            "Requirement already satisfied: pydantic>=1.9 in /usr/local/lib/python3.10/dist-packages (from chromadb!=0.5.4,!=0.5.5,<0.6.0,>=0.4.0->langchain-chroma) (2.9.2)\n",
            "Collecting chroma-hnswlib==0.7.6 (from chromadb!=0.5.4,!=0.5.5,<0.6.0,>=0.4.0->langchain-chroma)\n",
            "  Downloading chroma_hnswlib-0.7.6-cp310-cp310-manylinux_2_17_x86_64.manylinux2014_x86_64.whl.metadata (252 bytes)\n",
            "Collecting uvicorn>=0.18.3 (from uvicorn[standard]>=0.18.3->chromadb!=0.5.4,!=0.5.5,<0.6.0,>=0.4.0->langchain-chroma)\n",
            "  Downloading uvicorn-0.31.1-py3-none-any.whl.metadata (6.6 kB)\n",
            "Collecting posthog>=2.4.0 (from chromadb!=0.5.4,!=0.5.5,<0.6.0,>=0.4.0->langchain-chroma)\n",
            "  Downloading posthog-3.7.0-py2.py3-none-any.whl.metadata (2.0 kB)\n",
            "Requirement already satisfied: typing-extensions>=4.5.0 in /usr/local/lib/python3.10/dist-packages (from chromadb!=0.5.4,!=0.5.5,<0.6.0,>=0.4.0->langchain-chroma) (4.12.2)\n",
            "Collecting onnxruntime>=1.14.1 (from chromadb!=0.5.4,!=0.5.5,<0.6.0,>=0.4.0->langchain-chroma)\n",
            "  Downloading onnxruntime-1.19.2-cp310-cp310-manylinux_2_27_x86_64.manylinux_2_28_x86_64.whl.metadata (4.5 kB)\n",
            "Requirement already satisfied: opentelemetry-api>=1.2.0 in /usr/local/lib/python3.10/dist-packages (from chromadb!=0.5.4,!=0.5.5,<0.6.0,>=0.4.0->langchain-chroma) (1.27.0)\n",
            "Collecting opentelemetry-exporter-otlp-proto-grpc>=1.2.0 (from chromadb!=0.5.4,!=0.5.5,<0.6.0,>=0.4.0->langchain-chroma)\n",
            "  Downloading opentelemetry_exporter_otlp_proto_grpc-1.27.0-py3-none-any.whl.metadata (2.3 kB)\n",
            "Collecting opentelemetry-instrumentation-fastapi>=0.41b0 (from chromadb!=0.5.4,!=0.5.5,<0.6.0,>=0.4.0->langchain-chroma)\n",
            "  Downloading opentelemetry_instrumentation_fastapi-0.48b0-py3-none-any.whl.metadata (2.1 kB)\n",
            "Requirement already satisfied: opentelemetry-sdk>=1.2.0 in /usr/local/lib/python3.10/dist-packages (from chromadb!=0.5.4,!=0.5.5,<0.6.0,>=0.4.0->langchain-chroma) (1.27.0)\n",
            "Requirement already satisfied: tokenizers>=0.13.2 in /usr/local/lib/python3.10/dist-packages (from chromadb!=0.5.4,!=0.5.5,<0.6.0,>=0.4.0->langchain-chroma) (0.19.1)\n",
            "Collecting pypika>=0.48.9 (from chromadb!=0.5.4,!=0.5.5,<0.6.0,>=0.4.0->langchain-chroma)\n",
            "  Downloading PyPika-0.48.9.tar.gz (67 kB)\n",
            "\u001b[2K     \u001b[90m━━━━━━━━━━━━━━━━━━━━━━━━━━━━━━━━━━━━━━━━\u001b[0m \u001b[32m67.3/67.3 kB\u001b[0m \u001b[31m4.7 MB/s\u001b[0m eta \u001b[36m0:00:00\u001b[0m\n",
            "\u001b[?25h  Installing build dependencies ... \u001b[?25l\u001b[?25hdone\n",
            "  Getting requirements to build wheel ... \u001b[?25l\u001b[?25hdone\n",
            "  Preparing metadata (pyproject.toml) ... \u001b[?25l\u001b[?25hdone\n",
            "Requirement already satisfied: tqdm>=4.65.0 in /usr/local/lib/python3.10/dist-packages (from chromadb!=0.5.4,!=0.5.5,<0.6.0,>=0.4.0->langchain-chroma) (4.66.5)\n",
            "Collecting overrides>=7.3.1 (from chromadb!=0.5.4,!=0.5.5,<0.6.0,>=0.4.0->langchain-chroma)\n",
            "  Downloading overrides-7.7.0-py3-none-any.whl.metadata (5.8 kB)\n",
            "Requirement already satisfied: importlib-resources in /usr/local/lib/python3.10/dist-packages (from chromadb!=0.5.4,!=0.5.5,<0.6.0,>=0.4.0->langchain-chroma) (6.4.5)\n",
            "Requirement already satisfied: grpcio>=1.58.0 in /usr/local/lib/python3.10/dist-packages (from chromadb!=0.5.4,!=0.5.5,<0.6.0,>=0.4.0->langchain-chroma) (1.64.1)\n",
            "Collecting bcrypt>=4.0.1 (from chromadb!=0.5.4,!=0.5.5,<0.6.0,>=0.4.0->langchain-chroma)\n",
            "  Downloading bcrypt-4.2.0-cp39-abi3-manylinux_2_28_x86_64.whl.metadata (9.6 kB)\n",
            "Requirement already satisfied: typer>=0.9.0 in /usr/local/lib/python3.10/dist-packages (from chromadb!=0.5.4,!=0.5.5,<0.6.0,>=0.4.0->langchain-chroma) (0.12.5)\n",
            "Collecting kubernetes>=28.1.0 (from chromadb!=0.5.4,!=0.5.5,<0.6.0,>=0.4.0->langchain-chroma)\n",
            "  Downloading kubernetes-31.0.0-py2.py3-none-any.whl.metadata (1.5 kB)\n",
            "Requirement already satisfied: tenacity>=8.2.3 in /usr/local/lib/python3.10/dist-packages (from chromadb!=0.5.4,!=0.5.5,<0.6.0,>=0.4.0->langchain-chroma) (8.5.0)\n",
            "Requirement already satisfied: PyYAML>=6.0.0 in /usr/local/lib/python3.10/dist-packages (from chromadb!=0.5.4,!=0.5.5,<0.6.0,>=0.4.0->langchain-chroma) (6.0.2)\n",
            "Collecting mmh3>=4.0.1 (from chromadb!=0.5.4,!=0.5.5,<0.6.0,>=0.4.0->langchain-chroma)\n",
            "  Downloading mmh3-5.0.1-cp310-cp310-manylinux_2_5_x86_64.manylinux1_x86_64.manylinux_2_17_x86_64.manylinux2014_x86_64.whl.metadata (14 kB)\n",
            "Requirement already satisfied: orjson>=3.9.12 in /usr/local/lib/python3.10/dist-packages (from chromadb!=0.5.4,!=0.5.5,<0.6.0,>=0.4.0->langchain-chroma) (3.10.7)\n",
            "Requirement already satisfied: httpx>=0.27.0 in /usr/local/lib/python3.10/dist-packages (from chromadb!=0.5.4,!=0.5.5,<0.6.0,>=0.4.0->langchain-chroma) (0.27.2)\n",
            "Requirement already satisfied: rich>=10.11.0 in /usr/local/lib/python3.10/dist-packages (from chromadb!=0.5.4,!=0.5.5,<0.6.0,>=0.4.0->langchain-chroma) (13.9.2)\n",
            "Collecting starlette<0.41.0,>=0.37.2 (from fastapi<1,>=0.95.2->langchain-chroma)\n",
            "  Downloading starlette-0.39.2-py3-none-any.whl.metadata (6.0 kB)\n",
            "Requirement already satisfied: jsonpatch<2.0,>=1.33 in /usr/local/lib/python3.10/dist-packages (from langchain-core<0.4,>=0.1.40->langchain-chroma) (1.33)\n",
            "Requirement already satisfied: langsmith<0.2.0,>=0.1.125 in /usr/local/lib/python3.10/dist-packages (from langchain-core<0.4,>=0.1.40->langchain-chroma) (0.1.134)\n",
            "Requirement already satisfied: packaging<25,>=23.2 in /usr/local/lib/python3.10/dist-packages (from langchain-core<0.4,>=0.1.40->langchain-chroma) (24.1)\n",
            "Requirement already satisfied: pyproject_hooks in /usr/local/lib/python3.10/dist-packages (from build>=1.0.3->chromadb!=0.5.4,!=0.5.5,<0.6.0,>=0.4.0->langchain-chroma) (1.2.0)\n",
            "Requirement already satisfied: tomli>=1.1.0 in /usr/local/lib/python3.10/dist-packages (from build>=1.0.3->chromadb!=0.5.4,!=0.5.5,<0.6.0,>=0.4.0->langchain-chroma) (2.0.2)\n",
            "Requirement already satisfied: anyio in /usr/local/lib/python3.10/dist-packages (from httpx>=0.27.0->chromadb!=0.5.4,!=0.5.5,<0.6.0,>=0.4.0->langchain-chroma) (3.7.1)\n",
            "Requirement already satisfied: certifi in /usr/local/lib/python3.10/dist-packages (from httpx>=0.27.0->chromadb!=0.5.4,!=0.5.5,<0.6.0,>=0.4.0->langchain-chroma) (2024.8.30)\n",
            "Requirement already satisfied: httpcore==1.* in /usr/local/lib/python3.10/dist-packages (from httpx>=0.27.0->chromadb!=0.5.4,!=0.5.5,<0.6.0,>=0.4.0->langchain-chroma) (1.0.6)\n",
            "Requirement already satisfied: idna in /usr/local/lib/python3.10/dist-packages (from httpx>=0.27.0->chromadb!=0.5.4,!=0.5.5,<0.6.0,>=0.4.0->langchain-chroma) (3.10)\n",
            "Requirement already satisfied: sniffio in /usr/local/lib/python3.10/dist-packages (from httpx>=0.27.0->chromadb!=0.5.4,!=0.5.5,<0.6.0,>=0.4.0->langchain-chroma) (1.3.1)\n",
            "Requirement already satisfied: h11<0.15,>=0.13 in /usr/local/lib/python3.10/dist-packages (from httpcore==1.*->httpx>=0.27.0->chromadb!=0.5.4,!=0.5.5,<0.6.0,>=0.4.0->langchain-chroma) (0.14.0)\n",
            "Requirement already satisfied: jsonpointer>=1.9 in /usr/local/lib/python3.10/dist-packages (from jsonpatch<2.0,>=1.33->langchain-core<0.4,>=0.1.40->langchain-chroma) (3.0.0)\n",
            "Requirement already satisfied: six>=1.9.0 in /usr/local/lib/python3.10/dist-packages (from kubernetes>=28.1.0->chromadb!=0.5.4,!=0.5.5,<0.6.0,>=0.4.0->langchain-chroma) (1.16.0)\n",
            "Requirement already satisfied: python-dateutil>=2.5.3 in /usr/local/lib/python3.10/dist-packages (from kubernetes>=28.1.0->chromadb!=0.5.4,!=0.5.5,<0.6.0,>=0.4.0->langchain-chroma) (2.8.2)\n",
            "Requirement already satisfied: google-auth>=1.0.1 in /usr/local/lib/python3.10/dist-packages (from kubernetes>=28.1.0->chromadb!=0.5.4,!=0.5.5,<0.6.0,>=0.4.0->langchain-chroma) (2.27.0)\n",
            "Requirement already satisfied: websocket-client!=0.40.0,!=0.41.*,!=0.42.*,>=0.32.0 in /usr/local/lib/python3.10/dist-packages (from kubernetes>=28.1.0->chromadb!=0.5.4,!=0.5.5,<0.6.0,>=0.4.0->langchain-chroma) (1.8.0)\n",
            "Requirement already satisfied: requests in /usr/local/lib/python3.10/dist-packages (from kubernetes>=28.1.0->chromadb!=0.5.4,!=0.5.5,<0.6.0,>=0.4.0->langchain-chroma) (2.32.3)\n",
            "Requirement already satisfied: requests-oauthlib in /usr/local/lib/python3.10/dist-packages (from kubernetes>=28.1.0->chromadb!=0.5.4,!=0.5.5,<0.6.0,>=0.4.0->langchain-chroma) (1.3.1)\n",
            "Requirement already satisfied: oauthlib>=3.2.2 in /usr/local/lib/python3.10/dist-packages (from kubernetes>=28.1.0->chromadb!=0.5.4,!=0.5.5,<0.6.0,>=0.4.0->langchain-chroma) (3.2.2)\n",
            "Requirement already satisfied: urllib3>=1.24.2 in /usr/local/lib/python3.10/dist-packages (from kubernetes>=28.1.0->chromadb!=0.5.4,!=0.5.5,<0.6.0,>=0.4.0->langchain-chroma) (2.2.3)\n",
            "Collecting durationpy>=0.7 (from kubernetes>=28.1.0->chromadb!=0.5.4,!=0.5.5,<0.6.0,>=0.4.0->langchain-chroma)\n",
            "  Downloading durationpy-0.9-py3-none-any.whl.metadata (338 bytes)\n",
            "Requirement already satisfied: requests-toolbelt<2.0.0,>=1.0.0 in /usr/local/lib/python3.10/dist-packages (from langsmith<0.2.0,>=0.1.125->langchain-core<0.4,>=0.1.40->langchain-chroma) (1.0.0)\n",
            "Collecting coloredlogs (from onnxruntime>=1.14.1->chromadb!=0.5.4,!=0.5.5,<0.6.0,>=0.4.0->langchain-chroma)\n",
            "  Downloading coloredlogs-15.0.1-py2.py3-none-any.whl.metadata (12 kB)\n",
            "Requirement already satisfied: flatbuffers in /usr/local/lib/python3.10/dist-packages (from onnxruntime>=1.14.1->chromadb!=0.5.4,!=0.5.5,<0.6.0,>=0.4.0->langchain-chroma) (24.3.25)\n",
            "Requirement already satisfied: protobuf in /usr/local/lib/python3.10/dist-packages (from onnxruntime>=1.14.1->chromadb!=0.5.4,!=0.5.5,<0.6.0,>=0.4.0->langchain-chroma) (3.20.3)\n",
            "Requirement already satisfied: sympy in /usr/local/lib/python3.10/dist-packages (from onnxruntime>=1.14.1->chromadb!=0.5.4,!=0.5.5,<0.6.0,>=0.4.0->langchain-chroma) (1.13.3)\n",
            "Requirement already satisfied: deprecated>=1.2.6 in /usr/local/lib/python3.10/dist-packages (from opentelemetry-api>=1.2.0->chromadb!=0.5.4,!=0.5.5,<0.6.0,>=0.4.0->langchain-chroma) (1.2.14)\n",
            "Requirement already satisfied: importlib-metadata<=8.4.0,>=6.0 in /usr/local/lib/python3.10/dist-packages (from opentelemetry-api>=1.2.0->chromadb!=0.5.4,!=0.5.5,<0.6.0,>=0.4.0->langchain-chroma) (8.4.0)\n",
            "Requirement already satisfied: googleapis-common-protos~=1.52 in /usr/local/lib/python3.10/dist-packages (from opentelemetry-exporter-otlp-proto-grpc>=1.2.0->chromadb!=0.5.4,!=0.5.5,<0.6.0,>=0.4.0->langchain-chroma) (1.65.0)\n",
            "Collecting opentelemetry-exporter-otlp-proto-common==1.27.0 (from opentelemetry-exporter-otlp-proto-grpc>=1.2.0->chromadb!=0.5.4,!=0.5.5,<0.6.0,>=0.4.0->langchain-chroma)\n",
            "  Downloading opentelemetry_exporter_otlp_proto_common-1.27.0-py3-none-any.whl.metadata (1.8 kB)\n",
            "Collecting opentelemetry-proto==1.27.0 (from opentelemetry-exporter-otlp-proto-grpc>=1.2.0->chromadb!=0.5.4,!=0.5.5,<0.6.0,>=0.4.0->langchain-chroma)\n",
            "  Downloading opentelemetry_proto-1.27.0-py3-none-any.whl.metadata (2.3 kB)\n",
            "Collecting opentelemetry-instrumentation-asgi==0.48b0 (from opentelemetry-instrumentation-fastapi>=0.41b0->chromadb!=0.5.4,!=0.5.5,<0.6.0,>=0.4.0->langchain-chroma)\n",
            "  Downloading opentelemetry_instrumentation_asgi-0.48b0-py3-none-any.whl.metadata (2.0 kB)\n",
            "Collecting opentelemetry-instrumentation==0.48b0 (from opentelemetry-instrumentation-fastapi>=0.41b0->chromadb!=0.5.4,!=0.5.5,<0.6.0,>=0.4.0->langchain-chroma)\n",
            "  Downloading opentelemetry_instrumentation-0.48b0-py3-none-any.whl.metadata (6.1 kB)\n",
            "Requirement already satisfied: opentelemetry-semantic-conventions==0.48b0 in /usr/local/lib/python3.10/dist-packages (from opentelemetry-instrumentation-fastapi>=0.41b0->chromadb!=0.5.4,!=0.5.5,<0.6.0,>=0.4.0->langchain-chroma) (0.48b0)\n",
            "Collecting opentelemetry-util-http==0.48b0 (from opentelemetry-instrumentation-fastapi>=0.41b0->chromadb!=0.5.4,!=0.5.5,<0.6.0,>=0.4.0->langchain-chroma)\n",
            "  Downloading opentelemetry_util_http-0.48b0-py3-none-any.whl.metadata (2.5 kB)\n",
            "Requirement already satisfied: setuptools>=16.0 in /usr/local/lib/python3.10/dist-packages (from opentelemetry-instrumentation==0.48b0->opentelemetry-instrumentation-fastapi>=0.41b0->chromadb!=0.5.4,!=0.5.5,<0.6.0,>=0.4.0->langchain-chroma) (71.0.4)\n",
            "Requirement already satisfied: wrapt<2.0.0,>=1.0.0 in /usr/local/lib/python3.10/dist-packages (from opentelemetry-instrumentation==0.48b0->opentelemetry-instrumentation-fastapi>=0.41b0->chromadb!=0.5.4,!=0.5.5,<0.6.0,>=0.4.0->langchain-chroma) (1.16.0)\n",
            "Collecting asgiref~=3.0 (from opentelemetry-instrumentation-asgi==0.48b0->opentelemetry-instrumentation-fastapi>=0.41b0->chromadb!=0.5.4,!=0.5.5,<0.6.0,>=0.4.0->langchain-chroma)\n",
            "  Downloading asgiref-3.8.1-py3-none-any.whl.metadata (9.3 kB)\n",
            "Collecting monotonic>=1.5 (from posthog>=2.4.0->chromadb!=0.5.4,!=0.5.5,<0.6.0,>=0.4.0->langchain-chroma)\n",
            "  Downloading monotonic-1.6-py2.py3-none-any.whl.metadata (1.5 kB)\n",
            "Collecting backoff>=1.10.0 (from posthog>=2.4.0->chromadb!=0.5.4,!=0.5.5,<0.6.0,>=0.4.0->langchain-chroma)\n",
            "  Downloading backoff-2.2.1-py3-none-any.whl.metadata (14 kB)\n",
            "Requirement already satisfied: annotated-types>=0.6.0 in /usr/local/lib/python3.10/dist-packages (from pydantic>=1.9->chromadb!=0.5.4,!=0.5.5,<0.6.0,>=0.4.0->langchain-chroma) (0.7.0)\n",
            "Requirement already satisfied: pydantic-core==2.23.4 in /usr/local/lib/python3.10/dist-packages (from pydantic>=1.9->chromadb!=0.5.4,!=0.5.5,<0.6.0,>=0.4.0->langchain-chroma) (2.23.4)\n",
            "Requirement already satisfied: markdown-it-py>=2.2.0 in /usr/local/lib/python3.10/dist-packages (from rich>=10.11.0->chromadb!=0.5.4,!=0.5.5,<0.6.0,>=0.4.0->langchain-chroma) (3.0.0)\n",
            "Requirement already satisfied: pygments<3.0.0,>=2.13.0 in /usr/local/lib/python3.10/dist-packages (from rich>=10.11.0->chromadb!=0.5.4,!=0.5.5,<0.6.0,>=0.4.0->langchain-chroma) (2.18.0)\n",
            "Requirement already satisfied: huggingface-hub<1.0,>=0.16.4 in /usr/local/lib/python3.10/dist-packages (from tokenizers>=0.13.2->chromadb!=0.5.4,!=0.5.5,<0.6.0,>=0.4.0->langchain-chroma) (0.24.7)\n",
            "Requirement already satisfied: click>=8.0.0 in /usr/local/lib/python3.10/dist-packages (from typer>=0.9.0->chromadb!=0.5.4,!=0.5.5,<0.6.0,>=0.4.0->langchain-chroma) (8.1.7)\n",
            "Requirement already satisfied: shellingham>=1.3.0 in /usr/local/lib/python3.10/dist-packages (from typer>=0.9.0->chromadb!=0.5.4,!=0.5.5,<0.6.0,>=0.4.0->langchain-chroma) (1.5.4)\n",
            "Collecting httptools>=0.5.0 (from uvicorn[standard]>=0.18.3->chromadb!=0.5.4,!=0.5.5,<0.6.0,>=0.4.0->langchain-chroma)\n",
            "  Downloading httptools-0.6.1-cp310-cp310-manylinux_2_5_x86_64.manylinux1_x86_64.manylinux_2_17_x86_64.manylinux2014_x86_64.whl.metadata (3.6 kB)\n",
            "Requirement already satisfied: python-dotenv>=0.13 in /usr/local/lib/python3.10/dist-packages (from uvicorn[standard]>=0.18.3->chromadb!=0.5.4,!=0.5.5,<0.6.0,>=0.4.0->langchain-chroma) (1.0.1)\n",
            "Collecting uvloop!=0.15.0,!=0.15.1,>=0.14.0 (from uvicorn[standard]>=0.18.3->chromadb!=0.5.4,!=0.5.5,<0.6.0,>=0.4.0->langchain-chroma)\n",
            "  Downloading uvloop-0.20.0-cp310-cp310-manylinux_2_17_x86_64.manylinux2014_x86_64.whl.metadata (4.9 kB)\n",
            "Collecting watchfiles>=0.13 (from uvicorn[standard]>=0.18.3->chromadb!=0.5.4,!=0.5.5,<0.6.0,>=0.4.0->langchain-chroma)\n",
            "  Downloading watchfiles-0.24.0-cp310-cp310-manylinux_2_17_x86_64.manylinux2014_x86_64.whl.metadata (4.9 kB)\n",
            "Collecting websockets>=10.4 (from uvicorn[standard]>=0.18.3->chromadb!=0.5.4,!=0.5.5,<0.6.0,>=0.4.0->langchain-chroma)\n",
            "  Downloading websockets-13.1-cp310-cp310-manylinux_2_5_x86_64.manylinux1_x86_64.manylinux_2_17_x86_64.manylinux2014_x86_64.whl.metadata (6.8 kB)\n",
            "Requirement already satisfied: exceptiongroup in /usr/local/lib/python3.10/dist-packages (from anyio->httpx>=0.27.0->chromadb!=0.5.4,!=0.5.5,<0.6.0,>=0.4.0->langchain-chroma) (1.2.2)\n",
            "Requirement already satisfied: cachetools<6.0,>=2.0.0 in /usr/local/lib/python3.10/dist-packages (from google-auth>=1.0.1->kubernetes>=28.1.0->chromadb!=0.5.4,!=0.5.5,<0.6.0,>=0.4.0->langchain-chroma) (5.5.0)\n",
            "Requirement already satisfied: pyasn1-modules>=0.2.1 in /usr/local/lib/python3.10/dist-packages (from google-auth>=1.0.1->kubernetes>=28.1.0->chromadb!=0.5.4,!=0.5.5,<0.6.0,>=0.4.0->langchain-chroma) (0.4.1)\n",
            "Requirement already satisfied: rsa<5,>=3.1.4 in /usr/local/lib/python3.10/dist-packages (from google-auth>=1.0.1->kubernetes>=28.1.0->chromadb!=0.5.4,!=0.5.5,<0.6.0,>=0.4.0->langchain-chroma) (4.9)\n",
            "Requirement already satisfied: filelock in /usr/local/lib/python3.10/dist-packages (from huggingface-hub<1.0,>=0.16.4->tokenizers>=0.13.2->chromadb!=0.5.4,!=0.5.5,<0.6.0,>=0.4.0->langchain-chroma) (3.16.1)\n",
            "Requirement already satisfied: fsspec>=2023.5.0 in /usr/local/lib/python3.10/dist-packages (from huggingface-hub<1.0,>=0.16.4->tokenizers>=0.13.2->chromadb!=0.5.4,!=0.5.5,<0.6.0,>=0.4.0->langchain-chroma) (2024.6.1)\n",
            "Requirement already satisfied: zipp>=0.5 in /usr/local/lib/python3.10/dist-packages (from importlib-metadata<=8.4.0,>=6.0->opentelemetry-api>=1.2.0->chromadb!=0.5.4,!=0.5.5,<0.6.0,>=0.4.0->langchain-chroma) (3.20.2)\n",
            "Requirement already satisfied: mdurl~=0.1 in /usr/local/lib/python3.10/dist-packages (from markdown-it-py>=2.2.0->rich>=10.11.0->chromadb!=0.5.4,!=0.5.5,<0.6.0,>=0.4.0->langchain-chroma) (0.1.2)\n",
            "Requirement already satisfied: charset-normalizer<4,>=2 in /usr/local/lib/python3.10/dist-packages (from requests->kubernetes>=28.1.0->chromadb!=0.5.4,!=0.5.5,<0.6.0,>=0.4.0->langchain-chroma) (3.3.2)\n",
            "Collecting humanfriendly>=9.1 (from coloredlogs->onnxruntime>=1.14.1->chromadb!=0.5.4,!=0.5.5,<0.6.0,>=0.4.0->langchain-chroma)\n",
            "  Downloading humanfriendly-10.0-py2.py3-none-any.whl.metadata (9.2 kB)\n",
            "Requirement already satisfied: mpmath<1.4,>=1.1.0 in /usr/local/lib/python3.10/dist-packages (from sympy->onnxruntime>=1.14.1->chromadb!=0.5.4,!=0.5.5,<0.6.0,>=0.4.0->langchain-chroma) (1.3.0)\n",
            "Requirement already satisfied: pyasn1<0.7.0,>=0.4.6 in /usr/local/lib/python3.10/dist-packages (from pyasn1-modules>=0.2.1->google-auth>=1.0.1->kubernetes>=28.1.0->chromadb!=0.5.4,!=0.5.5,<0.6.0,>=0.4.0->langchain-chroma) (0.6.1)\n",
            "Downloading langchain_chroma-0.1.4-py3-none-any.whl (10 kB)\n",
            "Downloading chromadb-0.5.13-py3-none-any.whl (602 kB)\n",
            "\u001b[2K   \u001b[90m━━━━━━━━━━━━━━━━━━━━━━━━━━━━━━━━━━━━━━━━\u001b[0m \u001b[32m603.0/603.0 kB\u001b[0m \u001b[31m25.7 MB/s\u001b[0m eta \u001b[36m0:00:00\u001b[0m\n",
            "\u001b[?25hDownloading chroma_hnswlib-0.7.6-cp310-cp310-manylinux_2_17_x86_64.manylinux2014_x86_64.whl (2.4 MB)\n",
            "\u001b[2K   \u001b[90m━━━━━━━━━━━━━━━━━━━━━━━━━━━━━━━━━━━━━━━━\u001b[0m \u001b[32m2.4/2.4 MB\u001b[0m \u001b[31m34.0 MB/s\u001b[0m eta \u001b[36m0:00:00\u001b[0m\n",
            "\u001b[?25hDownloading fastapi-0.115.2-py3-none-any.whl (94 kB)\n",
            "\u001b[2K   \u001b[90m━━━━━━━━━━━━━━━━━━━━━━━━━━━━━━━━━━━━━━━━\u001b[0m \u001b[32m94.7/94.7 kB\u001b[0m \u001b[31m7.0 MB/s\u001b[0m eta \u001b[36m0:00:00\u001b[0m\n",
            "\u001b[?25hDownloading bcrypt-4.2.0-cp39-abi3-manylinux_2_28_x86_64.whl (273 kB)\n",
            "\u001b[2K   \u001b[90m━━━━━━━━━━━━━━━━━━━━━━━━━━━━━━━━━━━━━━━━\u001b[0m \u001b[32m273.8/273.8 kB\u001b[0m \u001b[31m20.4 MB/s\u001b[0m eta \u001b[36m0:00:00\u001b[0m\n",
            "\u001b[?25hDownloading kubernetes-31.0.0-py2.py3-none-any.whl (1.9 MB)\n",
            "\u001b[2K   \u001b[90m━━━━━━━━━━━━━━━━━━━━━━━━━━━━━━━━━━━━━━━━\u001b[0m \u001b[32m1.9/1.9 MB\u001b[0m \u001b[31m47.2 MB/s\u001b[0m eta \u001b[36m0:00:00\u001b[0m\n",
            "\u001b[?25hDownloading mmh3-5.0.1-cp310-cp310-manylinux_2_5_x86_64.manylinux1_x86_64.manylinux_2_17_x86_64.manylinux2014_x86_64.whl (93 kB)\n",
            "\u001b[2K   \u001b[90m━━━━━━━━━━━━━━━━━━━━━━━━━━━━━━━━━━━━━━━━\u001b[0m \u001b[32m93.2/93.2 kB\u001b[0m \u001b[31m8.2 MB/s\u001b[0m eta \u001b[36m0:00:00\u001b[0m\n",
            "\u001b[?25hDownloading onnxruntime-1.19.2-cp310-cp310-manylinux_2_27_x86_64.manylinux_2_28_x86_64.whl (13.2 MB)\n",
            "\u001b[2K   \u001b[90m━━━━━━━━━━━━━━━━━━━━━━━━━━━━━━━━━━━━━━━━\u001b[0m \u001b[32m13.2/13.2 MB\u001b[0m \u001b[31m55.6 MB/s\u001b[0m eta \u001b[36m0:00:00\u001b[0m\n",
            "\u001b[?25hDownloading opentelemetry_exporter_otlp_proto_grpc-1.27.0-py3-none-any.whl (18 kB)\n",
            "Downloading opentelemetry_exporter_otlp_proto_common-1.27.0-py3-none-any.whl (17 kB)\n",
            "Downloading opentelemetry_proto-1.27.0-py3-none-any.whl (52 kB)\n",
            "\u001b[2K   \u001b[90m━━━━━━━━━━━━━━━━━━━━━━━━━━━━━━━━━━━━━━━━\u001b[0m \u001b[32m52.5/52.5 kB\u001b[0m \u001b[31m4.2 MB/s\u001b[0m eta \u001b[36m0:00:00\u001b[0m\n",
            "\u001b[?25hDownloading opentelemetry_instrumentation_fastapi-0.48b0-py3-none-any.whl (11 kB)\n",
            "Downloading opentelemetry_instrumentation-0.48b0-py3-none-any.whl (29 kB)\n",
            "Downloading opentelemetry_instrumentation_asgi-0.48b0-py3-none-any.whl (15 kB)\n",
            "Downloading opentelemetry_util_http-0.48b0-py3-none-any.whl (6.9 kB)\n",
            "Downloading overrides-7.7.0-py3-none-any.whl (17 kB)\n",
            "Downloading posthog-3.7.0-py2.py3-none-any.whl (54 kB)\n",
            "\u001b[2K   \u001b[90m━━━━━━━━━━━━━━━━━━━━━━━━━━━━━━━━━━━━━━━━\u001b[0m \u001b[32m54.4/54.4 kB\u001b[0m \u001b[31m4.7 MB/s\u001b[0m eta \u001b[36m0:00:00\u001b[0m\n",
            "\u001b[?25hDownloading starlette-0.39.2-py3-none-any.whl (73 kB)\n",
            "\u001b[2K   \u001b[90m━━━━━━━━━━━━━━━━━━━━━━━━━━━━━━━━━━━━━━━━\u001b[0m \u001b[32m73.2/73.2 kB\u001b[0m \u001b[31m6.4 MB/s\u001b[0m eta \u001b[36m0:00:00\u001b[0m\n",
            "\u001b[?25hDownloading uvicorn-0.31.1-py3-none-any.whl (63 kB)\n",
            "\u001b[2K   \u001b[90m━━━━━━━━━━━━━━━━━━━━━━━━━━━━━━━━━━━━━━━━\u001b[0m \u001b[32m63.7/63.7 kB\u001b[0m \u001b[31m5.1 MB/s\u001b[0m eta \u001b[36m0:00:00\u001b[0m\n",
            "\u001b[?25hDownloading backoff-2.2.1-py3-none-any.whl (15 kB)\n",
            "Downloading durationpy-0.9-py3-none-any.whl (3.5 kB)\n",
            "Downloading httptools-0.6.1-cp310-cp310-manylinux_2_5_x86_64.manylinux1_x86_64.manylinux_2_17_x86_64.manylinux2014_x86_64.whl (341 kB)\n",
            "\u001b[2K   \u001b[90m━━━━━━━━━━━━━━━━━━━━━━━━━━━━━━━━━━━━━━━━\u001b[0m \u001b[32m341.4/341.4 kB\u001b[0m \u001b[31m25.4 MB/s\u001b[0m eta \u001b[36m0:00:00\u001b[0m\n",
            "\u001b[?25hDownloading monotonic-1.6-py2.py3-none-any.whl (8.2 kB)\n",
            "Downloading uvloop-0.20.0-cp310-cp310-manylinux_2_17_x86_64.manylinux2014_x86_64.whl (3.4 MB)\n",
            "\u001b[2K   \u001b[90m━━━━━━━━━━━━━━━━━━━━━━━━━━━━━━━━━━━━━━━━\u001b[0m \u001b[32m3.4/3.4 MB\u001b[0m \u001b[31m60.7 MB/s\u001b[0m eta \u001b[36m0:00:00\u001b[0m\n",
            "\u001b[?25hDownloading watchfiles-0.24.0-cp310-cp310-manylinux_2_17_x86_64.manylinux2014_x86_64.whl (425 kB)\n",
            "\u001b[2K   \u001b[90m━━━━━━━━━━━━━━━━━━━━━━━━━━━━━━━━━━━━━━━━\u001b[0m \u001b[32m425.7/425.7 kB\u001b[0m \u001b[31m27.0 MB/s\u001b[0m eta \u001b[36m0:00:00\u001b[0m\n",
            "\u001b[?25hDownloading websockets-13.1-cp310-cp310-manylinux_2_5_x86_64.manylinux1_x86_64.manylinux_2_17_x86_64.manylinux2014_x86_64.whl (164 kB)\n",
            "\u001b[2K   \u001b[90m━━━━━━━━━━━━━━━━━━━━━━━━━━━━━━━━━━━━━━━━\u001b[0m \u001b[32m164.1/164.1 kB\u001b[0m \u001b[31m12.4 MB/s\u001b[0m eta \u001b[36m0:00:00\u001b[0m\n",
            "\u001b[?25hDownloading coloredlogs-15.0.1-py2.py3-none-any.whl (46 kB)\n",
            "\u001b[2K   \u001b[90m━━━━━━━━━━━━━━━━━━━━━━━━━━━━━━━━━━━━━━━━\u001b[0m \u001b[32m46.0/46.0 kB\u001b[0m \u001b[31m3.4 MB/s\u001b[0m eta \u001b[36m0:00:00\u001b[0m\n",
            "\u001b[?25hDownloading asgiref-3.8.1-py3-none-any.whl (23 kB)\n",
            "Downloading humanfriendly-10.0-py2.py3-none-any.whl (86 kB)\n",
            "\u001b[2K   \u001b[90m━━━━━━━━━━━━━━━━━━━━━━━━━━━━━━━━━━━━━━━━\u001b[0m \u001b[32m86.8/86.8 kB\u001b[0m \u001b[31m7.1 MB/s\u001b[0m eta \u001b[36m0:00:00\u001b[0m\n",
            "\u001b[?25hBuilding wheels for collected packages: pypika\n",
            "  Building wheel for pypika (pyproject.toml) ... \u001b[?25l\u001b[?25hdone\n",
            "  Created wheel for pypika: filename=PyPika-0.48.9-py2.py3-none-any.whl size=53723 sha256=f7505cbe7795d16b098b8957df26d18080a28b5194f722a6d992c5700519fbe2\n",
            "  Stored in directory: /root/.cache/pip/wheels/e1/26/51/d0bffb3d2fd82256676d7ad3003faea3bd6dddc9577af665f4\n",
            "Successfully built pypika\n",
            "Installing collected packages: pypika, monotonic, durationpy, websockets, uvloop, uvicorn, overrides, opentelemetry-util-http, opentelemetry-proto, mmh3, humanfriendly, httptools, chroma-hnswlib, bcrypt, backoff, asgiref, watchfiles, starlette, posthog, opentelemetry-exporter-otlp-proto-common, coloredlogs, opentelemetry-instrumentation, onnxruntime, kubernetes, fastapi, opentelemetry-instrumentation-asgi, opentelemetry-instrumentation-fastapi, opentelemetry-exporter-otlp-proto-grpc, chromadb, langchain-chroma\n",
            "Successfully installed asgiref-3.8.1 backoff-2.2.1 bcrypt-4.2.0 chroma-hnswlib-0.7.6 chromadb-0.5.13 coloredlogs-15.0.1 durationpy-0.9 fastapi-0.115.2 httptools-0.6.1 humanfriendly-10.0 kubernetes-31.0.0 langchain-chroma-0.1.4 mmh3-5.0.1 monotonic-1.6 onnxruntime-1.19.2 opentelemetry-exporter-otlp-proto-common-1.27.0 opentelemetry-exporter-otlp-proto-grpc-1.27.0 opentelemetry-instrumentation-0.48b0 opentelemetry-instrumentation-asgi-0.48b0 opentelemetry-instrumentation-fastapi-0.48b0 opentelemetry-proto-1.27.0 opentelemetry-util-http-0.48b0 overrides-7.7.0 posthog-3.7.0 pypika-0.48.9 starlette-0.39.2 uvicorn-0.31.1 uvloop-0.20.0 watchfiles-0.24.0 websockets-13.1\n"
          ]
        }
      ]
    },
    {
      "cell_type": "code",
      "source": [
        "from langchain.text_splitter import RecursiveCharacterTextSplitter\n",
        "from langchain_community.document_loaders import WebBaseLoader\n",
        "from langchain_community.vectorstores import Chroma\n",
        "from langchain_openai import OpenAIEmbeddings"
      ],
      "metadata": {
        "colab": {
          "base_uri": "https://localhost:8080/"
        },
        "id": "qRFHsxw3fqGc",
        "outputId": "3b0438f9-4052-423c-ef9a-a87313dae752"
      },
      "execution_count": null,
      "outputs": [
        {
          "output_type": "stream",
          "name": "stderr",
          "text": [
            "WARNING:langchain_community.utils.user_agent:USER_AGENT environment variable not set, consider setting it to identify your requests.\n"
          ]
        }
      ]
    },
    {
      "cell_type": "code",
      "source": [
        "# Set embeddings\n",
        "embd = OpenAIEmbeddings()\n",
        "\n",
        "# Docs to index\n",
        "urls = [\n",
        "    \"https://lilianweng.github.io/posts/2023-06-23-agent/\",\n",
        "    \"https://lilianweng.github.io/posts/2023-03-15-prompt-engineering/\",\n",
        "    \"https://lilianweng.github.io/posts/2023-10-25-adv-attack-llm/\",\n",
        "]\n",
        "\n",
        "# Load\n",
        "docs = [WebBaseLoader(url).load() for url in urls]\n",
        "docs_list = [item for sublist in docs for item in sublist]\n",
        "\n",
        "# Split\n",
        "text_splitter = RecursiveCharacterTextSplitter.from_tiktoken_encoder(\n",
        "    chunk_size=500, chunk_overlap=0\n",
        ")\n",
        "doc_splits = text_splitter.split_documents(docs_list)\n",
        "\n",
        "# Add to vectorstore\n",
        "vectorstore = Chroma.from_documents(\n",
        "    documents=doc_splits,\n",
        "    collection_name=\"rag-chroma\",\n",
        "    embedding=embd,\n",
        ")\n",
        "retriever = vectorstore.as_retriever()"
      ],
      "metadata": {
        "id": "inUdouk_f5Lb"
      },
      "execution_count": null,
      "outputs": []
    },
    {
      "cell_type": "code",
      "source": [
        "### Router\n",
        "\n",
        "from typing import Literal\n",
        "\n",
        "from langchain_core.prompts import ChatPromptTemplate\n",
        "from langchain_openai import ChatOpenAI\n",
        "\n",
        "from pydantic import BaseModel, Field\n",
        "\n",
        "\n",
        "# Data model\n",
        "class RouteQuery(BaseModel):\n",
        "    \"\"\"Route a user query to the most relevant datasource.\"\"\"\n",
        "\n",
        "    datasource: Literal[\"vectorstore\", \"web_search\"] = Field(\n",
        "        ...,\n",
        "        description=\"Given a user question choose to route it to web search or a vectorstore.\",\n",
        "    )\n",
        "\n",
        "\n",
        "# LLM with function call\n",
        "llm = ChatOpenAI(model=\"gpt-3.5-turbo-0125\", temperature=0)\n",
        "structured_llm_router = llm.with_structured_output(RouteQuery)\n",
        "\n",
        "# Prompt\n",
        "system = \"\"\"You are an expert at routing a user question to a vectorstore or web search.\n",
        "The vectorstore contains documents related to agents, prompt engineering, and adversarial attacks.\n",
        "Use the vectorstore for questions on these topics. Otherwise, use web-search.\"\"\"\n",
        "route_prompt = ChatPromptTemplate.from_messages(\n",
        "    [\n",
        "        (\"system\", system),\n",
        "        (\"human\", \"{question}\"),\n",
        "    ]\n",
        ")\n",
        "\n",
        "question_router = route_prompt | structured_llm_router\n",
        "print(\n",
        "    question_router.invoke(\n",
        "        {\"question\": \"Who will the Bears draft first in the NFL draft?\"}\n",
        "    )\n",
        ")\n",
        "print(question_router.invoke({\"question\": \"What are the types of agent memory?\"}))"
      ],
      "metadata": {
        "colab": {
          "base_uri": "https://localhost:8080/"
        },
        "id": "ZbLJML1AgZfh",
        "outputId": "ba9a676e-97ad-4d2f-cc03-99351b71a4b4"
      },
      "execution_count": null,
      "outputs": [
        {
          "output_type": "stream",
          "name": "stdout",
          "text": [
            "datasource='web_search'\n",
            "datasource='vectorstore'\n"
          ]
        }
      ]
    },
    {
      "cell_type": "code",
      "source": [
        "### Retrieval Grader\n",
        "\n",
        "\n",
        "# Data model\n",
        "class GradeDocuments(BaseModel):\n",
        "    \"\"\"Binary score for relevance check on retrieved documents.\"\"\"\n",
        "\n",
        "    binary_score: str = Field(\n",
        "        description=\"Documents are relevant to the question, 'yes' or 'no'\"\n",
        "    )\n",
        "\n",
        "\n",
        "# LLM with function call\n",
        "llm = ChatOpenAI(model=\"gpt-3.5-turbo-0125\", temperature=0)\n",
        "structured_llm_grader = llm.with_structured_output(GradeDocuments)\n",
        "\n",
        "# Prompt\n",
        "system = \"\"\"You are a grader assessing relevance of a retrieved document to a user question. \\n\n",
        "    If the document contains keyword(s) or semantic meaning related to the user question, grade it as relevant. \\n\n",
        "    It does not need to be a stringent test. The goal is to filter out erroneous retrievals. \\n\n",
        "    Give a binary score 'yes' or 'no' score to indicate whether the document is relevant to the question.\"\"\"\n",
        "grade_prompt = ChatPromptTemplate.from_messages(\n",
        "    [\n",
        "        (\"system\", system),\n",
        "        (\"human\", \"Retrieved document: \\n\\n {document} \\n\\n User question: {question}\"),\n",
        "    ]\n",
        ")\n",
        "\n",
        "retrieval_grader = grade_prompt | structured_llm_grader\n",
        "question = \"agent memory\"\n",
        "docs = retriever.invoke(question)\n",
        "doc_txt = docs[1].page_content\n",
        "print(retrieval_grader.invoke({\"question\": question, \"document\": doc_txt}))"
      ],
      "metadata": {
        "colab": {
          "base_uri": "https://localhost:8080/"
        },
        "id": "YUdycH9kiaxm",
        "outputId": "bafb454f-5726-41b6-f315-d87dfb40079a"
      },
      "execution_count": null,
      "outputs": [
        {
          "output_type": "stream",
          "name": "stdout",
          "text": [
            "binary_score='no'\n"
          ]
        }
      ]
    },
    {
      "cell_type": "code",
      "source": [
        "#now we will combine retrieved documents context along with the prompt text to the LLM in the form of a RAG Chain\n",
        "#This is a prompt for retrieval-augmented-generation. It is useful for chat, QA, or other applications that rely on passing context to an LLM.https://smith.langchain.com/hub/rlm/rag-prompt\n",
        "from langchain import hub\n",
        "rag_prompt = hub.pull(\"rlm/rag-prompt\")"
      ],
      "metadata": {
        "id": "Ig43ppGljifv"
      },
      "execution_count": null,
      "outputs": []
    },
    {
      "cell_type": "code",
      "source": [
        "### Generate\n",
        "\n",
        "from langchain import hub\n",
        "from langchain_core.output_parsers import StrOutputParser\n",
        "\n",
        "# now we will combine retrieved documents context along with the prompt text to the LLM in the form of a RAG Chain\n",
        "#This is a prompt for retrieval-augmented-generation. It is useful for chat, QA, or other applications that rely on passing context to an LLM.https://smith.langchain.com/hub/rlm/rag-prompt\n",
        "prompt = hub.pull(\"rlm/rag-prompt\")\n",
        "\n",
        "# LLM\n",
        "llm = ChatOpenAI(model_name=\"gpt-3.5-turbo\", temperature=0)\n",
        "\n",
        "\n",
        "# Post-processing\n",
        "def format_docs(docs):\n",
        "    return \"\\n\\n\".join(doc.page_content for doc in docs)\n",
        "\n",
        "\n",
        "# Chain\n",
        "rag_chain = prompt | llm | StrOutputParser()\n",
        "\n",
        "# Run\n",
        "generation = rag_chain.invoke({\"context\": docs, \"question\": question})\n",
        "print(generation)"
      ],
      "metadata": {
        "colab": {
          "base_uri": "https://localhost:8080/"
        },
        "id": "yX0M-NxBj_rW",
        "outputId": "b820de76-da70-47ea-dab9-2094529f312f"
      },
      "execution_count": null,
      "outputs": [
        {
          "output_type": "stream",
          "name": "stderr",
          "text": [
            "/usr/local/lib/python3.10/dist-packages/langsmith/client.py:354: LangSmithMissingAPIKeyWarning: API key must be provided when using hosted LangSmith API\n",
            "  warnings.warn(\n"
          ]
        },
        {
          "output_type": "stream",
          "name": "stdout",
          "text": [
            "In a LLM-powered autonomous agent system, memory plays a crucial role in enabling agents to behave based on past experiences and interact with other agents. The memory stream module records a comprehensive list of agents' experiences in natural language, allowing for reflection and planning mechanisms to guide future behavior. The retrieval model surfaces context based on relevance, recency, and importance to inform the agent's actions.\n"
          ]
        }
      ]
    },
    {
      "cell_type": "code",
      "source": [
        "### Hallucination Grader\n",
        "\n",
        "\n",
        "# Data model\n",
        "class GradeHallucinations(BaseModel):\n",
        "    \"\"\"Binary score for hallucination present in generation answer.\"\"\"\n",
        "\n",
        "    binary_score: str = Field(\n",
        "        description=\"Answer is grounded in the facts, 'yes' or 'no'\"\n",
        "    )\n",
        "\n",
        "\n",
        "# LLM with function call\n",
        "llm = ChatOpenAI(model=\"gpt-3.5-turbo-0125\", temperature=0)\n",
        "structured_llm_grader = llm.with_structured_output(GradeHallucinations)\n",
        "\n",
        "# Prompt\n",
        "system = \"\"\"You are a grader assessing whether an LLM generation is grounded in / supported by a set of retrieved facts. \\n\n",
        "     Give a binary score 'yes' or 'no'. 'Yes' means that the answer is grounded in / supported by the set of facts.\"\"\"\n",
        "hallucination_prompt = ChatPromptTemplate.from_messages(\n",
        "    [\n",
        "        (\"system\", system),\n",
        "        (\"human\", \"Set of facts: \\n\\n {documents} \\n\\n LLM generation: {generation}\"),\n",
        "    ]\n",
        ")\n",
        "\n",
        "hallucination_grader = hallucination_prompt | structured_llm_grader\n",
        "hallucination_grader.invoke({\"documents\": docs, \"generation\": generation})"
      ],
      "metadata": {
        "colab": {
          "base_uri": "https://localhost:8080/"
        },
        "id": "KMvdejN1qnqI",
        "outputId": "54549e55-d102-402b-cc4a-e67624225bf8"
      },
      "execution_count": null,
      "outputs": [
        {
          "output_type": "execute_result",
          "data": {
            "text/plain": [
              "GradeHallucinations(binary_score='yes')"
            ]
          },
          "metadata": {},
          "execution_count": 23
        }
      ]
    },
    {
      "cell_type": "code",
      "source": [
        "### Answer Grader\n",
        "\n",
        "\n",
        "# Data model\n",
        "class GradeAnswer(BaseModel):\n",
        "    \"\"\"Binary score to assess answer addresses question.\"\"\"\n",
        "\n",
        "    binary_score: str = Field(\n",
        "        description=\"Answer addresses the question, 'yes' or 'no'\"\n",
        "    )\n",
        "\n",
        "\n",
        "# LLM with function call\n",
        "llm = ChatOpenAI(model=\"gpt-3.5-turbo-0125\", temperature=0)\n",
        "structured_llm_grader = llm.with_structured_output(GradeAnswer)\n",
        "\n",
        "# Prompt\n",
        "system = \"\"\"You are a grader assessing whether an answer addresses / resolves a question \\n\n",
        "     Give a binary score 'yes' or 'no'. Yes' means that the answer resolves the question.\"\"\"\n",
        "answer_prompt = ChatPromptTemplate.from_messages(\n",
        "    [\n",
        "        (\"system\", system),\n",
        "        (\"human\", \"User question: \\n\\n {question} \\n\\n LLM generation: {generation}\"),\n",
        "    ]\n",
        ")\n",
        "\n",
        "answer_grader = answer_prompt | structured_llm_grader\n",
        "answer_grader.invoke({\"question\": question, \"generation\": generation})"
      ],
      "metadata": {
        "colab": {
          "base_uri": "https://localhost:8080/"
        },
        "id": "-NamoWzbqufV",
        "outputId": "b4e5799e-f930-460f-96ce-964b69c31d47"
      },
      "execution_count": null,
      "outputs": [
        {
          "output_type": "execute_result",
          "data": {
            "text/plain": [
              "GradeAnswer(binary_score='yes')"
            ]
          },
          "metadata": {},
          "execution_count": 24
        }
      ]
    },
    {
      "cell_type": "code",
      "source": [
        "!pip install tavily-python"
      ],
      "metadata": {
        "colab": {
          "base_uri": "https://localhost:8080/"
        },
        "id": "fJAQkNxyoPLg",
        "outputId": "1a4fe42b-ed78-4a00-aa8d-c8c70b7896d3"
      },
      "execution_count": null,
      "outputs": [
        {
          "output_type": "stream",
          "name": "stdout",
          "text": [
            "Collecting tavily-python\n",
            "  Downloading tavily_python-0.5.0-py3-none-any.whl.metadata (11 kB)\n",
            "Requirement already satisfied: requests in /usr/local/lib/python3.10/dist-packages (from tavily-python) (2.32.3)\n",
            "Requirement already satisfied: tiktoken>=0.5.1 in /usr/local/lib/python3.10/dist-packages (from tavily-python) (0.8.0)\n",
            "Requirement already satisfied: httpx in /usr/local/lib/python3.10/dist-packages (from tavily-python) (0.27.2)\n",
            "Requirement already satisfied: regex>=2022.1.18 in /usr/local/lib/python3.10/dist-packages (from tiktoken>=0.5.1->tavily-python) (2024.9.11)\n",
            "Requirement already satisfied: charset-normalizer<4,>=2 in /usr/local/lib/python3.10/dist-packages (from requests->tavily-python) (3.3.2)\n",
            "Requirement already satisfied: idna<4,>=2.5 in /usr/local/lib/python3.10/dist-packages (from requests->tavily-python) (3.10)\n",
            "Requirement already satisfied: urllib3<3,>=1.21.1 in /usr/local/lib/python3.10/dist-packages (from requests->tavily-python) (2.2.3)\n",
            "Requirement already satisfied: certifi>=2017.4.17 in /usr/local/lib/python3.10/dist-packages (from requests->tavily-python) (2024.8.30)\n",
            "Requirement already satisfied: anyio in /usr/local/lib/python3.10/dist-packages (from httpx->tavily-python) (3.7.1)\n",
            "Requirement already satisfied: httpcore==1.* in /usr/local/lib/python3.10/dist-packages (from httpx->tavily-python) (1.0.6)\n",
            "Requirement already satisfied: sniffio in /usr/local/lib/python3.10/dist-packages (from httpx->tavily-python) (1.3.1)\n",
            "Requirement already satisfied: h11<0.15,>=0.13 in /usr/local/lib/python3.10/dist-packages (from httpcore==1.*->httpx->tavily-python) (0.14.0)\n",
            "Requirement already satisfied: exceptiongroup in /usr/local/lib/python3.10/dist-packages (from anyio->httpx->tavily-python) (1.2.2)\n",
            "Downloading tavily_python-0.5.0-py3-none-any.whl (14 kB)\n",
            "Installing collected packages: tavily-python\n",
            "Successfully installed tavily-python-0.5.0\n"
          ]
        }
      ]
    },
    {
      "cell_type": "code",
      "source": [
        "tavily_api_key = os.getenv(\"TAVILY_API_KEY\")"
      ],
      "metadata": {
        "id": "q_3wg6vaofB6"
      },
      "execution_count": null,
      "outputs": []
    },
    {
      "cell_type": "code",
      "source": [
        "os.environ[\"TAVILY_API_KEY\"] = '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'"
      ],
      "metadata": {
        "id": "24DxX3ceoZHH"
      },
      "execution_count": null,
      "outputs": []
    },
    {
      "cell_type": "code",
      "source": [
        "from langchain_community.tools.tavily_search import TavilySearchResults"
      ],
      "metadata": {
        "id": "2xRd5dGhoyyL"
      },
      "execution_count": null,
      "outputs": []
    },
    {
      "cell_type": "code",
      "source": [
        "web_search_tool = TavilySearchResults(k=3)"
      ],
      "metadata": {
        "id": "7qe6OQtoo5me"
      },
      "execution_count": null,
      "outputs": []
    },
    {
      "cell_type": "code",
      "source": [
        "### Question Re-writer\n",
        "\n",
        "# LLM\n",
        "llm = ChatOpenAI(model=\"gpt-3.5-turbo-0125\", temperature=0)\n",
        "\n",
        "# Prompt\n",
        "system = \"\"\"You a question re-writer that converts an input question to a better version that is optimized \\n\n",
        "     for vectorstore retrieval. Look at the input and try to reason about the underlying semantic intent / meaning.\"\"\"\n",
        "re_write_prompt = ChatPromptTemplate.from_messages(\n",
        "    [\n",
        "        (\"system\", system),\n",
        "        (\n",
        "            \"human\",\n",
        "            \"Here is the initial question: \\n\\n {question} \\n Formulate an improved question.\",\n",
        "        ),\n",
        "    ]\n",
        ")\n",
        "\n",
        "question_rewriter = re_write_prompt | llm | StrOutputParser()\n",
        "question_rewriter.invoke({\"question\": question})"
      ],
      "metadata": {
        "colab": {
          "base_uri": "https://localhost:8080/",
          "height": 36
        },
        "id": "Xkk1ptv1nxWN",
        "outputId": "f9ca7605-a360-4add-c6fe-5f15fa88c4d4"
      },
      "execution_count": null,
      "outputs": [
        {
          "output_type": "execute_result",
          "data": {
            "text/plain": [
              "\"What is the role of memory in an agent's functioning?\""
            ],
            "application/vnd.google.colaboratory.intrinsic+json": {
              "type": "string"
            }
          },
          "metadata": {},
          "execution_count": 15
        }
      ]
    },
    {
      "cell_type": "code",
      "source": [
        "from typing import List\n",
        "\n",
        "from typing_extensions import TypedDict\n",
        "\n",
        "\n",
        "class GraphState(TypedDict):\n",
        "    \"\"\"\n",
        "    Represents the state of our graph.\n",
        "\n",
        "    Attributes:\n",
        "        question: question\n",
        "        generation: LLM generation\n",
        "        documents: list of documents\n",
        "    \"\"\"\n",
        "\n",
        "    question: str\n",
        "    generation: str\n",
        "    documents: List[str]"
      ],
      "metadata": {
        "id": "MivrMuvJpMk3"
      },
      "execution_count": null,
      "outputs": []
    },
    {
      "cell_type": "code",
      "source": [
        "from langchain.schema import Document\n",
        "\n",
        "\n",
        "def retrieve(state):\n",
        "    \"\"\"\n",
        "    Retrieve documents\n",
        "\n",
        "    Args:\n",
        "        state (dict): The current graph state\n",
        "\n",
        "    Returns:\n",
        "        state (dict): New key added to state, documents, that contains retrieved documents\n",
        "    \"\"\"\n",
        "    print(\"---RETRIEVE---\")\n",
        "    question = state[\"question\"]\n",
        "\n",
        "    # Retrieval\n",
        "    documents = retriever.invoke(question)\n",
        "    return {\"documents\": documents, \"question\": question}\n",
        "\n",
        "\n",
        "def generate(state):\n",
        "    \"\"\"\n",
        "    Generate answer\n",
        "\n",
        "    Args:\n",
        "        state (dict): The current graph state\n",
        "\n",
        "    Returns:\n",
        "        state (dict): New key added to state, generation, that contains LLM generation\n",
        "    \"\"\"\n",
        "    print(\"---GENERATE---\")\n",
        "    question = state[\"question\"]\n",
        "    documents = state[\"documents\"]\n",
        "\n",
        "    # RAG generation\n",
        "    generation = rag_chain.invoke({\"context\": documents, \"question\": question})\n",
        "    return {\"documents\": documents, \"question\": question, \"generation\": generation}\n",
        "\n",
        "\n",
        "def grade_documents(state):\n",
        "    \"\"\"\n",
        "    Determines whether the retrieved documents are relevant to the question.\n",
        "\n",
        "    Args:\n",
        "        state (dict): The current graph state\n",
        "\n",
        "    Returns:\n",
        "        state (dict): Updates documents key with only filtered relevant documents\n",
        "    \"\"\"\n",
        "\n",
        "    print(\"---CHECK DOCUMENT RELEVANCE TO QUESTION---\")\n",
        "    question = state[\"question\"]\n",
        "    documents = state[\"documents\"]\n",
        "\n",
        "    # Score each doc\n",
        "    filtered_docs = []\n",
        "    for d in documents:\n",
        "        score = retrieval_grader.invoke(\n",
        "            {\"question\": question, \"document\": d.page_content}\n",
        "        )\n",
        "        grade = score.binary_score\n",
        "        if grade == \"yes\":\n",
        "            print(\"---GRADE: DOCUMENT RELEVANT---\")\n",
        "            filtered_docs.append(d)\n",
        "        else:\n",
        "            print(\"---GRADE: DOCUMENT NOT RELEVANT---\")\n",
        "            continue\n",
        "    return {\"documents\": filtered_docs, \"question\": question}\n",
        "\n",
        "\n",
        "def transform_query(state):\n",
        "    \"\"\"\n",
        "    Transform the query to produce a better question.\n",
        "\n",
        "    Args:\n",
        "        state (dict): The current graph state\n",
        "\n",
        "    Returns:\n",
        "        state (dict): Updates question key with a re-phrased question\n",
        "    \"\"\"\n",
        "\n",
        "    print(\"---TRANSFORM QUERY---\")\n",
        "    question = state[\"question\"]\n",
        "    documents = state[\"documents\"]\n",
        "\n",
        "    # Re-write question\n",
        "    better_question = question_rewriter.invoke({\"question\": question})\n",
        "    return {\"documents\": documents, \"question\": better_question}\n",
        "\n",
        "\n",
        "def web_search(state):\n",
        "    \"\"\"\n",
        "    Web search based on the re-phrased question.\n",
        "\n",
        "    Args:\n",
        "        state (dict): The current graph state\n",
        "\n",
        "    Returns:\n",
        "        state (dict): Updates documents key with appended web results\n",
        "    \"\"\"\n",
        "\n",
        "    print(\"---WEB SEARCH---\")\n",
        "    question = state[\"question\"]\n",
        "\n",
        "    # Web search\n",
        "    docs = web_search_tool.invoke({\"query\": question})\n",
        "    web_results = \"\\n\".join([d[\"content\"] for d in docs])\n",
        "    web_results = Document(page_content=web_results)\n",
        "\n",
        "    return {\"documents\": web_results, \"question\": question}"
      ],
      "metadata": {
        "id": "hpisdElbpegS"
      },
      "execution_count": null,
      "outputs": []
    },
    {
      "cell_type": "code",
      "source": [
        "def route_question(state):\n",
        "    \"\"\"\n",
        "    Route question to web search or RAG.\n",
        "\n",
        "    Args:\n",
        "        state (dict): The current graph state\n",
        "\n",
        "    Returns:\n",
        "        str: Next node to call\n",
        "    \"\"\"\n",
        "\n",
        "    print(\"---ROUTE QUESTION---\")\n",
        "    question = state[\"question\"]\n",
        "    source = question_router.invoke({\"question\": question})\n",
        "    if source.datasource == \"web_search\":\n",
        "        print(\"---ROUTE QUESTION TO WEB SEARCH---\")\n",
        "        return \"web_search\"\n",
        "    elif source.datasource == \"vectorstore\":\n",
        "        print(\"---ROUTE QUESTION TO RAG---\")\n",
        "        return \"vectorstore\"\n",
        "\n",
        "\n",
        "def decide_to_generate(state):\n",
        "    \"\"\"\n",
        "    Determines whether to generate an answer, or re-generate a question.\n",
        "\n",
        "    Args:\n",
        "        state (dict): The current graph state\n",
        "\n",
        "    Returns:\n",
        "        str: Binary decision for next node to call\n",
        "    \"\"\"\n",
        "\n",
        "    print(\"---ASSESS GRADED DOCUMENTS---\")\n",
        "    state[\"question\"]\n",
        "    filtered_documents = state[\"documents\"]\n",
        "\n",
        "    if not filtered_documents:\n",
        "        # All documents have been filtered check_relevance\n",
        "        # We will re-generate a new query\n",
        "        print(\n",
        "            \"---DECISION: ALL DOCUMENTS ARE NOT RELEVANT TO QUESTION, TRANSFORM QUERY---\"\n",
        "        )\n",
        "        return \"transform_query\"\n",
        "    else:\n",
        "        # We have relevant documents, so generate answer\n",
        "        print(\"---DECISION: GENERATE---\")\n",
        "        return \"generate\"\n",
        "\n",
        "\n",
        "def grade_generation_v_documents_and_question(state):\n",
        "    \"\"\"\n",
        "    Determines whether the generation is grounded in the document and answers question.\n",
        "\n",
        "    Args:\n",
        "        state (dict): The current graph state\n",
        "\n",
        "    Returns:\n",
        "        str: Decision for next node to call\n",
        "    \"\"\"\n",
        "\n",
        "    print(\"---CHECK HALLUCINATIONS---\")\n",
        "    question = state[\"question\"]\n",
        "    documents = state[\"documents\"]\n",
        "    generation = state[\"generation\"]\n",
        "\n",
        "    score = hallucination_grader.invoke(\n",
        "        {\"documents\": documents, \"generation\": generation}\n",
        "    )\n",
        "    grade = score.binary_score\n",
        "\n",
        "    # Check hallucination\n",
        "    if grade == \"yes\":\n",
        "        print(\"---DECISION: GENERATION IS GROUNDED IN DOCUMENTS---\")\n",
        "        # Check question-answering\n",
        "        print(\"---GRADE GENERATION vs QUESTION---\")\n",
        "        score = answer_grader.invoke({\"question\": question, \"generation\": generation})\n",
        "        grade = score.binary_score\n",
        "        if grade == \"yes\":\n",
        "            print(\"---DECISION: GENERATION ADDRESSES QUESTION---\")\n",
        "            return \"useful\"\n",
        "        else:\n",
        "            print(\"---DECISION: GENERATION DOES NOT ADDRESS QUESTION---\")\n",
        "            return \"not useful\"\n",
        "    else:\n",
        "        print(\"---DECISION: GENERATION IS NOT GROUNDED IN DOCUMENTS, RE-TRY---\")\n",
        "        return \"not supported\""
      ],
      "metadata": {
        "id": "2MNOkpYcszjA"
      },
      "execution_count": null,
      "outputs": []
    },
    {
      "cell_type": "code",
      "source": [
        "from langgraph.graph import END, StateGraph, START\n",
        "\n",
        "workflow = StateGraph(GraphState)\n",
        "\n",
        "# Define the nodes\n",
        "workflow.add_node(\"web_search\", web_search)  # web search\n",
        "workflow.add_node(\"retrieve\", retrieve)  # retrieve\n",
        "workflow.add_node(\"grade_documents\", grade_documents)  # grade documents\n",
        "workflow.add_node(\"generate\", generate)  # generatae\n",
        "workflow.add_node(\"transform_query\", transform_query)  # transform_query\n",
        "\n",
        "# Build graph\n",
        "workflow.add_conditional_edges(\n",
        "    START,\n",
        "    route_question,\n",
        "    {\n",
        "        \"web_search\": \"web_search\",\n",
        "        \"vectorstore\": \"retrieve\",\n",
        "    },\n",
        ")\n",
        "workflow.add_edge(\"web_search\", \"generate\")\n",
        "workflow.add_edge(\"retrieve\", \"grade_documents\")\n",
        "workflow.add_conditional_edges(\n",
        "    \"grade_documents\",\n",
        "    decide_to_generate,\n",
        "    {\n",
        "        \"transform_query\": \"transform_query\",\n",
        "        \"generate\": \"generate\",\n",
        "    },\n",
        ")\n",
        "workflow.add_edge(\"transform_query\", \"retrieve\")\n",
        "workflow.add_conditional_edges(\n",
        "    \"generate\",\n",
        "    grade_generation_v_documents_and_question,\n",
        "    {\n",
        "        \"not supported\": \"generate\",\n",
        "        \"useful\": END,\n",
        "        \"not useful\": \"transform_query\",\n",
        "    },\n",
        ")\n",
        "\n",
        "# Compile\n",
        "app = workflow.compile()"
      ],
      "metadata": {
        "id": "FPcGJJANv1GV"
      },
      "execution_count": null,
      "outputs": []
    },
    {
      "cell_type": "code",
      "source": [
        "from pprint import pprint\n",
        "\n",
        "# Run\n",
        "inputs = {\n",
        "    \"question\": \"What player at the Bears expected to draft first in the 2024 NFL draft?\"\n",
        "}\n",
        "for output in app.stream(inputs):\n",
        "    for key, value in output.items():\n",
        "        # Node\n",
        "        pprint(f\"Node '{key}':\")\n",
        "        # Optional: print full state at each node\n",
        "        # pprint.pprint(value[\"keys\"], indent=2, width=80, depth=None)\n",
        "    pprint(\"\\n---\\n\")\n",
        "\n",
        "# Final generation\n",
        "pprint(value[\"generation\"])"
      ],
      "metadata": {
        "colab": {
          "base_uri": "https://localhost:8080/"
        },
        "id": "HSyED0u2xVqM",
        "outputId": "d24675ab-99af-4d2b-f55d-d3eec9c8f85b"
      },
      "execution_count": null,
      "outputs": [
        {
          "output_type": "stream",
          "name": "stdout",
          "text": [
            "---ROUTE QUESTION---\n",
            "---ROUTE QUESTION TO WEB SEARCH---\n",
            "---WEB SEARCH---\n",
            "\"Node 'web_search':\"\n",
            "'\\n---\\n'\n",
            "---GENERATE---\n",
            "---CHECK HALLUCINATIONS---\n",
            "---DECISION: GENERATION IS GROUNDED IN DOCUMENTS---\n",
            "---GRADE GENERATION vs QUESTION---\n",
            "---DECISION: GENERATION ADDRESSES QUESTION---\n",
            "\"Node 'generate':\"\n",
            "'\\n---\\n'\n",
            "('Caleb Williams, a quarterback from USC, was expected to be drafted first by '\n",
            " 'the Bears in the 2024 NFL draft. The Bears selected Williams with the No. 1 '\n",
            " 'pick in the draft, considering him the top prospect in a class full of '\n",
            " 'talented quarterbacks.')\n"
          ]
        }
      ]
    },
    {
      "cell_type": "markdown",
      "source": [
        "![image.png](data:image/png;base64,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)"
      ],
      "metadata": {
        "id": "YDxb3YW_wad0"
      }
    }
  ]
}